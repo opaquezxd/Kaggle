{
 "cells": [
  {
   "cell_type": "code",
   "execution_count": 23,
   "metadata": {
    "ExecuteTime": {
     "end_time": "2019-02-20T08:38:13.751576Z",
     "start_time": "2019-02-20T08:38:13.746591Z"
    },
    "collapsed": true
   },
   "outputs": [],
   "source": [
    "import  pandas   as pd\n",
    "import  numpy   as np\n"
   ]
  },
  {
   "cell_type": "code",
   "execution_count": 24,
   "metadata": {
    "ExecuteTime": {
     "end_time": "2019-02-20T08:39:39.115745Z",
     "start_time": "2019-02-20T08:38:13.753317Z"
    },
    "collapsed": true
   },
   "outputs": [],
   "source": [
    "df_train = pd.read_csv('../input/train.csv')\n",
    "df_test = pd.read_csv('../input/test.csv')\n",
    "df_hist_trans = pd.read_csv('../input/historical_transactions.csv',parse_dates=['purchase_date'])\n",
    "df_new_merchant_trans = pd.read_csv('../input/new_merchant_transactions.csv',parse_dates=['purchase_date'])"
   ]
  },
  {
   "cell_type": "code",
   "execution_count": 25,
   "metadata": {
    "ExecuteTime": {
     "end_time": "2019-02-20T08:40:15.789837Z",
     "start_time": "2019-02-20T08:39:39.117696Z"
    },
    "collapsed": true
   },
   "outputs": [],
   "source": [
    "df_hist_trans = df_hist_trans.sort_values(by=['card_id', 'purchase_date'])"
   ]
  },
  {
   "cell_type": "code",
   "execution_count": 26,
   "metadata": {
    "ExecuteTime": {
     "end_time": "2019-02-20T08:40:18.258916Z",
     "start_time": "2019-02-20T08:40:15.791654Z"
    },
    "collapsed": true
   },
   "outputs": [],
   "source": [
    "df_new_merchant_trans = df_new_merchant_trans.sort_values(by=['card_id', 'purchase_date'])"
   ]
  },
  {
   "cell_type": "code",
   "execution_count": 27,
   "metadata": {
    "ExecuteTime": {
     "end_time": "2019-02-20T08:40:18.283609Z",
     "start_time": "2019-02-20T08:40:18.260819Z"
    }
   },
   "outputs": [
    {
     "data": {
      "text/html": [
       "<div>\n",
       "<style scoped>\n",
       "    .dataframe tbody tr th:only-of-type {\n",
       "        vertical-align: middle;\n",
       "    }\n",
       "\n",
       "    .dataframe tbody tr th {\n",
       "        vertical-align: top;\n",
       "    }\n",
       "\n",
       "    .dataframe thead th {\n",
       "        text-align: right;\n",
       "    }\n",
       "</style>\n",
       "<table border=\"1\" class=\"dataframe\">\n",
       "  <thead>\n",
       "    <tr style=\"text-align: right;\">\n",
       "      <th></th>\n",
       "      <th>authorized_flag</th>\n",
       "      <th>card_id</th>\n",
       "      <th>city_id</th>\n",
       "      <th>category_1</th>\n",
       "      <th>installments</th>\n",
       "      <th>category_3</th>\n",
       "      <th>merchant_category_id</th>\n",
       "      <th>merchant_id</th>\n",
       "      <th>month_lag</th>\n",
       "      <th>purchase_amount</th>\n",
       "      <th>purchase_date</th>\n",
       "      <th>category_2</th>\n",
       "      <th>state_id</th>\n",
       "      <th>subsector_id</th>\n",
       "    </tr>\n",
       "  </thead>\n",
       "  <tbody>\n",
       "    <tr>\n",
       "      <th>19095896</th>\n",
       "      <td>Y</td>\n",
       "      <td>C_ID_00007093c1</td>\n",
       "      <td>244</td>\n",
       "      <td>N</td>\n",
       "      <td>2</td>\n",
       "      <td>C</td>\n",
       "      <td>705</td>\n",
       "      <td>M_ID_69423b34e4</td>\n",
       "      <td>-12</td>\n",
       "      <td>0.037176</td>\n",
       "      <td>2017-02-14 14:00:43</td>\n",
       "      <td>3.0</td>\n",
       "      <td>2</td>\n",
       "      <td>33</td>\n",
       "    </tr>\n",
       "    <tr>\n",
       "      <th>19095775</th>\n",
       "      <td>Y</td>\n",
       "      <td>C_ID_00007093c1</td>\n",
       "      <td>244</td>\n",
       "      <td>N</td>\n",
       "      <td>1</td>\n",
       "      <td>B</td>\n",
       "      <td>705</td>\n",
       "      <td>M_ID_a33355a1b7</td>\n",
       "      <td>-12</td>\n",
       "      <td>-0.467415</td>\n",
       "      <td>2017-02-14 15:47:45</td>\n",
       "      <td>3.0</td>\n",
       "      <td>2</td>\n",
       "      <td>33</td>\n",
       "    </tr>\n",
       "    <tr>\n",
       "      <th>19095845</th>\n",
       "      <td>Y</td>\n",
       "      <td>C_ID_00007093c1</td>\n",
       "      <td>244</td>\n",
       "      <td>N</td>\n",
       "      <td>1</td>\n",
       "      <td>B</td>\n",
       "      <td>307</td>\n",
       "      <td>M_ID_9400cf2342</td>\n",
       "      <td>-12</td>\n",
       "      <td>-0.572600</td>\n",
       "      <td>2017-02-16 15:37:58</td>\n",
       "      <td>3.0</td>\n",
       "      <td>2</td>\n",
       "      <td>19</td>\n",
       "    </tr>\n",
       "    <tr>\n",
       "      <th>19095866</th>\n",
       "      <td>Y</td>\n",
       "      <td>C_ID_00007093c1</td>\n",
       "      <td>244</td>\n",
       "      <td>N</td>\n",
       "      <td>3</td>\n",
       "      <td>C</td>\n",
       "      <td>705</td>\n",
       "      <td>M_ID_a33355a1b7</td>\n",
       "      <td>-12</td>\n",
       "      <td>-0.331575</td>\n",
       "      <td>2017-02-20 12:19:01</td>\n",
       "      <td>3.0</td>\n",
       "      <td>2</td>\n",
       "      <td>33</td>\n",
       "    </tr>\n",
       "    <tr>\n",
       "      <th>19095808</th>\n",
       "      <td>Y</td>\n",
       "      <td>C_ID_00007093c1</td>\n",
       "      <td>244</td>\n",
       "      <td>N</td>\n",
       "      <td>1</td>\n",
       "      <td>B</td>\n",
       "      <td>307</td>\n",
       "      <td>M_ID_9400cf2342</td>\n",
       "      <td>-11</td>\n",
       "      <td>-0.483944</td>\n",
       "      <td>2017-03-03 00:24:15</td>\n",
       "      <td>3.0</td>\n",
       "      <td>2</td>\n",
       "      <td>19</td>\n",
       "    </tr>\n",
       "  </tbody>\n",
       "</table>\n",
       "</div>"
      ],
      "text/plain": [
       "         authorized_flag          card_id  city_id category_1  installments  \\\n",
       "19095896               Y  C_ID_00007093c1      244          N             2   \n",
       "19095775               Y  C_ID_00007093c1      244          N             1   \n",
       "19095845               Y  C_ID_00007093c1      244          N             1   \n",
       "19095866               Y  C_ID_00007093c1      244          N             3   \n",
       "19095808               Y  C_ID_00007093c1      244          N             1   \n",
       "\n",
       "         category_3  merchant_category_id      merchant_id  month_lag  \\\n",
       "19095896          C                   705  M_ID_69423b34e4        -12   \n",
       "19095775          B                   705  M_ID_a33355a1b7        -12   \n",
       "19095845          B                   307  M_ID_9400cf2342        -12   \n",
       "19095866          C                   705  M_ID_a33355a1b7        -12   \n",
       "19095808          B                   307  M_ID_9400cf2342        -11   \n",
       "\n",
       "          purchase_amount       purchase_date  category_2  state_id  \\\n",
       "19095896         0.037176 2017-02-14 14:00:43         3.0         2   \n",
       "19095775        -0.467415 2017-02-14 15:47:45         3.0         2   \n",
       "19095845        -0.572600 2017-02-16 15:37:58         3.0         2   \n",
       "19095866        -0.331575 2017-02-20 12:19:01         3.0         2   \n",
       "19095808        -0.483944 2017-03-03 00:24:15         3.0         2   \n",
       "\n",
       "          subsector_id  \n",
       "19095896            33  \n",
       "19095775            33  \n",
       "19095845            19  \n",
       "19095866            33  \n",
       "19095808            19  "
      ]
     },
     "execution_count": 27,
     "metadata": {},
     "output_type": "execute_result"
    }
   ],
   "source": [
    "df_hist_trans.head()"
   ]
  },
  {
   "cell_type": "code",
   "execution_count": 28,
   "metadata": {
    "ExecuteTime": {
     "end_time": "2019-02-20T08:43:32.548839Z",
     "start_time": "2019-02-20T08:40:18.285850Z"
    },
    "collapsed": true
   },
   "outputs": [],
   "source": [
    "hist_df_merchant_text = {}\n",
    "hist_df_merchant_text['card_id']= []\n",
    "hist_df_merchant_text['hist_merchant_text']= []\n",
    "\n",
    "gp = df_hist_trans.groupby(\"card_id\")\n",
    "\n",
    "for  card ,card_df  in  gp:\n",
    "    hist_df_merchant_text['card_id'].append(card)\n",
    "    hist_df_merchant_text['hist_merchant_text'].append(\" \".join(card_df['merchant_id'].astype(str).tolist()))\n",
    "    \n",
    "    "
   ]
  },
  {
   "cell_type": "code",
   "execution_count": 29,
   "metadata": {
    "ExecuteTime": {
     "end_time": "2019-02-20T08:46:19.795367Z",
     "start_time": "2019-02-20T08:43:32.550888Z"
    },
    "collapsed": true
   },
   "outputs": [],
   "source": [
    "new_df_merchant_text = {}\n",
    "new_df_merchant_text['card_id']= []\n",
    "new_df_merchant_text['new_merchant_text']= []\n",
    "\n",
    "gp = df_new_merchant_trans.groupby(\"card_id\")\n",
    "\n",
    "for  card ,card_df  in  gp:\n",
    "    new_df_merchant_text['card_id'].append(card)\n",
    "    new_df_merchant_text['new_merchant_text'].append(\" \".join(card_df['merchant_id'].astype(str).tolist()))\n",
    "    \n",
    "    "
   ]
  },
  {
   "cell_type": "code",
   "execution_count": 30,
   "metadata": {
    "ExecuteTime": {
     "end_time": "2019-02-20T08:46:20.087177Z",
     "start_time": "2019-02-20T08:46:19.797253Z"
    },
    "collapsed": true
   },
   "outputs": [],
   "source": [
    "hist_df_merchant_text =  pd.DataFrame(hist_df_merchant_text)\n",
    "new_df_merchant_text =  pd.DataFrame(new_df_merchant_text)"
   ]
  },
  {
   "cell_type": "code",
   "execution_count": 31,
   "metadata": {
    "ExecuteTime": {
     "end_time": "2019-02-20T08:46:20.093103Z",
     "start_time": "2019-02-20T08:46:20.089673Z"
    },
    "collapsed": true
   },
   "outputs": [],
   "source": [
    "# import gensim\n",
    "\n",
    "# train_seg_list =  hist_df_merchant_text.hist_merchant_text.str.split().tolist()+new_df_merchant_text.new_merchant_text.str.split().tolist()\n",
    "\n",
    "# w2v=gensim.models.Word2Vec(sentences=train_seg_list,size=300,min_count=1,workers=24,window=5,iter=50) \n",
    "\n",
    "# w2v.wv.save_word2vec_format(\"../input/merchant_w2v_300.txt\",binary=False) \n"
   ]
  },
  {
   "cell_type": "code",
   "execution_count": 32,
   "metadata": {
    "ExecuteTime": {
     "end_time": "2019-02-20T08:46:20.430583Z",
     "start_time": "2019-02-20T08:46:20.094754Z"
    },
    "collapsed": true
   },
   "outputs": [],
   "source": [
    "all_df_merchant =  pd.merge(hist_df_merchant_text,new_df_merchant_text,how = 'left', on = ['card_id'])"
   ]
  },
  {
   "cell_type": "code",
   "execution_count": 33,
   "metadata": {
    "ExecuteTime": {
     "end_time": "2019-02-20T08:46:20.442096Z",
     "start_time": "2019-02-20T08:46:20.432501Z"
    }
   },
   "outputs": [
    {
     "data": {
      "text/html": [
       "<div>\n",
       "<style scoped>\n",
       "    .dataframe tbody tr th:only-of-type {\n",
       "        vertical-align: middle;\n",
       "    }\n",
       "\n",
       "    .dataframe tbody tr th {\n",
       "        vertical-align: top;\n",
       "    }\n",
       "\n",
       "    .dataframe thead th {\n",
       "        text-align: right;\n",
       "    }\n",
       "</style>\n",
       "<table border=\"1\" class=\"dataframe\">\n",
       "  <thead>\n",
       "    <tr style=\"text-align: right;\">\n",
       "      <th></th>\n",
       "      <th>card_id</th>\n",
       "      <th>hist_merchant_text</th>\n",
       "      <th>new_merchant_text</th>\n",
       "    </tr>\n",
       "  </thead>\n",
       "  <tbody>\n",
       "    <tr>\n",
       "      <th>0</th>\n",
       "      <td>C_ID_00007093c1</td>\n",
       "      <td>M_ID_69423b34e4 M_ID_a33355a1b7 M_ID_9400cf234...</td>\n",
       "      <td>M_ID_08f01305af M_ID_00a6ca8a8a</td>\n",
       "    </tr>\n",
       "    <tr>\n",
       "      <th>1</th>\n",
       "      <td>C_ID_0001238066</td>\n",
       "      <td>M_ID_d17aabd756 M_ID_d17aabd756 M_ID_d17aabd75...</td>\n",
       "      <td>M_ID_7d8102bb34 M_ID_235e546dcc M_ID_a88790a46...</td>\n",
       "    </tr>\n",
       "    <tr>\n",
       "      <th>2</th>\n",
       "      <td>C_ID_0001506ef0</td>\n",
       "      <td>M_ID_5b63dd8e8f M_ID_9394291a35 M_ID_a7e436f34...</td>\n",
       "      <td>nan M_ID_ab756f937e</td>\n",
       "    </tr>\n",
       "    <tr>\n",
       "      <th>3</th>\n",
       "      <td>C_ID_0001793786</td>\n",
       "      <td>M_ID_7aba38d825 M_ID_f17a1b0efa M_ID_ded236474...</td>\n",
       "      <td>M_ID_4bc2dde1be M_ID_0d406dee2d M_ID_7cdd9d4be...</td>\n",
       "    </tr>\n",
       "    <tr>\n",
       "      <th>4</th>\n",
       "      <td>C_ID_000183fdda</td>\n",
       "      <td>M_ID_788daa3630 M_ID_788daa3630 M_ID_738e536d5...</td>\n",
       "      <td>M_ID_4af7fb2f08 M_ID_b1eb99fad9 M_ID_c280d42e9...</td>\n",
       "    </tr>\n",
       "  </tbody>\n",
       "</table>\n",
       "</div>"
      ],
      "text/plain": [
       "           card_id                                 hist_merchant_text  \\\n",
       "0  C_ID_00007093c1  M_ID_69423b34e4 M_ID_a33355a1b7 M_ID_9400cf234...   \n",
       "1  C_ID_0001238066  M_ID_d17aabd756 M_ID_d17aabd756 M_ID_d17aabd75...   \n",
       "2  C_ID_0001506ef0  M_ID_5b63dd8e8f M_ID_9394291a35 M_ID_a7e436f34...   \n",
       "3  C_ID_0001793786  M_ID_7aba38d825 M_ID_f17a1b0efa M_ID_ded236474...   \n",
       "4  C_ID_000183fdda  M_ID_788daa3630 M_ID_788daa3630 M_ID_738e536d5...   \n",
       "\n",
       "                                   new_merchant_text  \n",
       "0                    M_ID_08f01305af M_ID_00a6ca8a8a  \n",
       "1  M_ID_7d8102bb34 M_ID_235e546dcc M_ID_a88790a46...  \n",
       "2                                nan M_ID_ab756f937e  \n",
       "3  M_ID_4bc2dde1be M_ID_0d406dee2d M_ID_7cdd9d4be...  \n",
       "4  M_ID_4af7fb2f08 M_ID_b1eb99fad9 M_ID_c280d42e9...  "
      ]
     },
     "execution_count": 33,
     "metadata": {},
     "output_type": "execute_result"
    }
   ],
   "source": [
    "all_df_merchant.head()"
   ]
  },
  {
   "cell_type": "code",
   "execution_count": 34,
   "metadata": {
    "ExecuteTime": {
     "end_time": "2019-02-20T08:46:20.863711Z",
     "start_time": "2019-02-20T08:46:20.443716Z"
    },
    "collapsed": true
   },
   "outputs": [],
   "source": [
    "df_train_merchant_text  =  pd.merge(df_train[['card_id','target']],all_df_merchant,how = 'left',on =['card_id'])"
   ]
  },
  {
   "cell_type": "code",
   "execution_count": 35,
   "metadata": {
    "ExecuteTime": {
     "end_time": "2019-02-20T08:46:21.187850Z",
     "start_time": "2019-02-20T08:46:20.865926Z"
    },
    "collapsed": true
   },
   "outputs": [],
   "source": [
    "df_test_merchant_text  =  pd.merge(df_test[['card_id']],all_df_merchant,how = 'left',on =['card_id'])"
   ]
  },
  {
   "cell_type": "code",
   "execution_count": 36,
   "metadata": {
    "ExecuteTime": {
     "end_time": "2019-02-20T08:46:21.233424Z",
     "start_time": "2019-02-20T08:46:21.222592Z"
    }
   },
   "outputs": [
    {
     "data": {
      "text/html": [
       "<div>\n",
       "<style scoped>\n",
       "    .dataframe tbody tr th:only-of-type {\n",
       "        vertical-align: middle;\n",
       "    }\n",
       "\n",
       "    .dataframe tbody tr th {\n",
       "        vertical-align: top;\n",
       "    }\n",
       "\n",
       "    .dataframe thead th {\n",
       "        text-align: right;\n",
       "    }\n",
       "</style>\n",
       "<table border=\"1\" class=\"dataframe\">\n",
       "  <thead>\n",
       "    <tr style=\"text-align: right;\">\n",
       "      <th></th>\n",
       "      <th>card_id</th>\n",
       "      <th>target</th>\n",
       "      <th>hist_merchant_text</th>\n",
       "      <th>new_merchant_text</th>\n",
       "    </tr>\n",
       "  </thead>\n",
       "  <tbody>\n",
       "    <tr>\n",
       "      <th>0</th>\n",
       "      <td>C_ID_92a2005557</td>\n",
       "      <td>-0.820283</td>\n",
       "      <td>M_ID_1a81c358a3 M_ID_1a81c358a3 M_ID_cc72dac89...</td>\n",
       "      <td>M_ID_56086ccdb1 M_ID_2637773dd2 M_ID_e1fd26e37...</td>\n",
       "    </tr>\n",
       "    <tr>\n",
       "      <th>1</th>\n",
       "      <td>C_ID_3d0044924f</td>\n",
       "      <td>0.392913</td>\n",
       "      <td>M_ID_d13262f4b0 M_ID_2637773dd2 M_ID_35c84c8ec...</td>\n",
       "      <td>M_ID_4dbadbd1c9 M_ID_6e7c412a33 M_ID_7e93847d9...</td>\n",
       "    </tr>\n",
       "    <tr>\n",
       "      <th>2</th>\n",
       "      <td>C_ID_d639edf6cd</td>\n",
       "      <td>0.688056</td>\n",
       "      <td>M_ID_efd85d1f38 M_ID_14275fe7b9 M_ID_5634fd83e...</td>\n",
       "      <td>M_ID_c84d28e906</td>\n",
       "    </tr>\n",
       "    <tr>\n",
       "      <th>3</th>\n",
       "      <td>C_ID_186d6a6901</td>\n",
       "      <td>0.142495</td>\n",
       "      <td>M_ID_6dbaf215eb M_ID_26d4fadb60 M_ID_9a06a8cf3...</td>\n",
       "      <td>M_ID_aa13f8b4d9 M_ID_46534664f2 M_ID_a3196b9d3...</td>\n",
       "    </tr>\n",
       "    <tr>\n",
       "      <th>4</th>\n",
       "      <td>C_ID_cdbd2c0db2</td>\n",
       "      <td>-0.159749</td>\n",
       "      <td>M_ID_9f99aa4a8f M_ID_331b7a704b M_ID_48257bb85...</td>\n",
       "      <td>M_ID_8442c31b02 M_ID_07c4c547b5 M_ID_40e0130f8...</td>\n",
       "    </tr>\n",
       "  </tbody>\n",
       "</table>\n",
       "</div>"
      ],
      "text/plain": [
       "           card_id    target  \\\n",
       "0  C_ID_92a2005557 -0.820283   \n",
       "1  C_ID_3d0044924f  0.392913   \n",
       "2  C_ID_d639edf6cd  0.688056   \n",
       "3  C_ID_186d6a6901  0.142495   \n",
       "4  C_ID_cdbd2c0db2 -0.159749   \n",
       "\n",
       "                                  hist_merchant_text  \\\n",
       "0  M_ID_1a81c358a3 M_ID_1a81c358a3 M_ID_cc72dac89...   \n",
       "1  M_ID_d13262f4b0 M_ID_2637773dd2 M_ID_35c84c8ec...   \n",
       "2  M_ID_efd85d1f38 M_ID_14275fe7b9 M_ID_5634fd83e...   \n",
       "3  M_ID_6dbaf215eb M_ID_26d4fadb60 M_ID_9a06a8cf3...   \n",
       "4  M_ID_9f99aa4a8f M_ID_331b7a704b M_ID_48257bb85...   \n",
       "\n",
       "                                   new_merchant_text  \n",
       "0  M_ID_56086ccdb1 M_ID_2637773dd2 M_ID_e1fd26e37...  \n",
       "1  M_ID_4dbadbd1c9 M_ID_6e7c412a33 M_ID_7e93847d9...  \n",
       "2                                    M_ID_c84d28e906  \n",
       "3  M_ID_aa13f8b4d9 M_ID_46534664f2 M_ID_a3196b9d3...  \n",
       "4  M_ID_8442c31b02 M_ID_07c4c547b5 M_ID_40e0130f8...  "
      ]
     },
     "execution_count": 36,
     "metadata": {},
     "output_type": "execute_result"
    }
   ],
   "source": [
    "df_train_merchant_text.head()"
   ]
  },
  {
   "cell_type": "code",
   "execution_count": 37,
   "metadata": {
    "ExecuteTime": {
     "end_time": "2019-02-20T08:46:21.243871Z",
     "start_time": "2019-02-20T08:46:21.235036Z"
    }
   },
   "outputs": [
    {
     "data": {
      "text/html": [
       "<div>\n",
       "<style scoped>\n",
       "    .dataframe tbody tr th:only-of-type {\n",
       "        vertical-align: middle;\n",
       "    }\n",
       "\n",
       "    .dataframe tbody tr th {\n",
       "        vertical-align: top;\n",
       "    }\n",
       "\n",
       "    .dataframe thead th {\n",
       "        text-align: right;\n",
       "    }\n",
       "</style>\n",
       "<table border=\"1\" class=\"dataframe\">\n",
       "  <thead>\n",
       "    <tr style=\"text-align: right;\">\n",
       "      <th></th>\n",
       "      <th>card_id</th>\n",
       "      <th>hist_merchant_text</th>\n",
       "      <th>new_merchant_text</th>\n",
       "    </tr>\n",
       "  </thead>\n",
       "  <tbody>\n",
       "    <tr>\n",
       "      <th>0</th>\n",
       "      <td>C_ID_0ab67a22ab</td>\n",
       "      <td>M_ID_26c089d552 M_ID_9139332ccc M_ID_85a580316...</td>\n",
       "      <td>M_ID_4942754bdb M_ID_963c3bc06b M_ID_be0a17ad20</td>\n",
       "    </tr>\n",
       "    <tr>\n",
       "      <th>1</th>\n",
       "      <td>C_ID_130fd0cbdd</td>\n",
       "      <td>M_ID_ea776a9040 M_ID_c3ba8a0906 M_ID_fbb2a5acf...</td>\n",
       "      <td>M_ID_dfdd222b6e M_ID_8e609ef86e M_ID_8de969b57...</td>\n",
       "    </tr>\n",
       "    <tr>\n",
       "      <th>2</th>\n",
       "      <td>C_ID_b709037bc5</td>\n",
       "      <td>M_ID_3c7f08ddd2 M_ID_a3f84552ad M_ID_c708cbb89...</td>\n",
       "      <td>M_ID_46b3480064 M_ID_86be58d7e0</td>\n",
       "    </tr>\n",
       "    <tr>\n",
       "      <th>3</th>\n",
       "      <td>C_ID_d27d835a9f</td>\n",
       "      <td>M_ID_a085b88f1b M_ID_6a0e5275bb M_ID_5aee6a6c8...</td>\n",
       "      <td>M_ID_2073148bed M_ID_450b1e90a4 M_ID_a9d91682a...</td>\n",
       "    </tr>\n",
       "    <tr>\n",
       "      <th>4</th>\n",
       "      <td>C_ID_2b5e3df5c2</td>\n",
       "      <td>M_ID_d895cb84ae M_ID_d895cb84ae M_ID_d895cb84a...</td>\n",
       "      <td>M_ID_51e3acd8b1 M_ID_255bc75465 M_ID_143451f30...</td>\n",
       "    </tr>\n",
       "  </tbody>\n",
       "</table>\n",
       "</div>"
      ],
      "text/plain": [
       "           card_id                                 hist_merchant_text  \\\n",
       "0  C_ID_0ab67a22ab  M_ID_26c089d552 M_ID_9139332ccc M_ID_85a580316...   \n",
       "1  C_ID_130fd0cbdd  M_ID_ea776a9040 M_ID_c3ba8a0906 M_ID_fbb2a5acf...   \n",
       "2  C_ID_b709037bc5  M_ID_3c7f08ddd2 M_ID_a3f84552ad M_ID_c708cbb89...   \n",
       "3  C_ID_d27d835a9f  M_ID_a085b88f1b M_ID_6a0e5275bb M_ID_5aee6a6c8...   \n",
       "4  C_ID_2b5e3df5c2  M_ID_d895cb84ae M_ID_d895cb84ae M_ID_d895cb84a...   \n",
       "\n",
       "                                   new_merchant_text  \n",
       "0    M_ID_4942754bdb M_ID_963c3bc06b M_ID_be0a17ad20  \n",
       "1  M_ID_dfdd222b6e M_ID_8e609ef86e M_ID_8de969b57...  \n",
       "2                    M_ID_46b3480064 M_ID_86be58d7e0  \n",
       "3  M_ID_2073148bed M_ID_450b1e90a4 M_ID_a9d91682a...  \n",
       "4  M_ID_51e3acd8b1 M_ID_255bc75465 M_ID_143451f30...  "
      ]
     },
     "execution_count": 37,
     "metadata": {},
     "output_type": "execute_result"
    }
   ],
   "source": [
    "df_test_merchant_text.head()"
   ]
  },
  {
   "cell_type": "code",
   "execution_count": 38,
   "metadata": {
    "ExecuteTime": {
     "end_time": "2019-02-20T08:46:35.241485Z",
     "start_time": "2019-02-20T08:46:21.245500Z"
    },
    "collapsed": true
   },
   "outputs": [],
   "source": [
    "df_train_merchant_text.to_csv(\"../input/df_train_merchant_text\",index = False)\n",
    "df_test_merchant_text.to_csv(\"../input/df_test_merchant_text\",index = False)\n"
   ]
  },
  {
   "cell_type": "code",
   "execution_count": 39,
   "metadata": {
    "ExecuteTime": {
     "end_time": "2019-02-20T08:46:35.962892Z",
     "start_time": "2019-02-20T08:46:35.243561Z"
    },
    "collapsed": true
   },
   "outputs": [],
   "source": [
    "df_train_merchant_text['all_text'] = df_train_merchant_text['hist_merchant_text']+\" O \"+df_train_merchant_text['new_merchant_text']\n",
    "\n",
    "df_test_merchant_text['all_text'] =  df_test_merchant_text['hist_merchant_text']+\" 0 \"+df_train_merchant_text['new_merchant_text']"
   ]
  },
  {
   "cell_type": "code",
   "execution_count": 40,
   "metadata": {
    "ExecuteTime": {
     "end_time": "2019-02-20T08:46:37.287472Z",
     "start_time": "2019-02-20T08:46:35.964752Z"
    },
    "collapsed": true
   },
   "outputs": [],
   "source": [
    "df_train_merchant_text['len'] =  df_train_merchant_text.all_text.map(lambda x:len(str(x).split()))"
   ]
  },
  {
   "cell_type": "code",
   "execution_count": 41,
   "metadata": {
    "ExecuteTime": {
     "end_time": "2019-02-20T08:46:37.498654Z",
     "start_time": "2019-02-20T08:46:37.289319Z"
    }
   },
   "outputs": [
    {
     "data": {
      "text/plain": [
       "<matplotlib.axes._subplots.AxesSubplot at 0x7f2e752cb3c8>"
      ]
     },
     "execution_count": 41,
     "metadata": {},
     "output_type": "execute_result"
    },
    {
     "data": {
      "image/png": "[encoded data removed]",
      "text/plain": [
       "<matplotlib.figure.Figure at 0x7f2e9e012e48>"
      ]
     },
     "metadata": {},
     "output_type": "display_data"
    }
   ],
   "source": [
    "%matplotlib inline\n",
    "import seaborn  as  sns\n",
    "\n",
    "sns.kdeplot(df_train_merchant_text['len'])"
   ]
  },
  {
   "cell_type": "code",
   "execution_count": 42,
   "metadata": {
    "ExecuteTime": {
     "end_time": "2019-02-20T08:46:37.503747Z",
     "start_time": "2019-02-20T08:46:37.500442Z"
    },
    "collapsed": true
   },
   "outputs": [],
   "source": [
    "\n",
    "\n",
    "from tensorflow.keras.preprocessing.text import Tokenizer\n",
    "from tensorflow.keras.preprocessing.sequence import pad_sequences\n"
   ]
  },
  {
   "cell_type": "code",
   "execution_count": 43,
   "metadata": {
    "ExecuteTime": {
     "end_time": "2019-02-20T08:46:37.558069Z",
     "start_time": "2019-02-20T08:46:37.505563Z"
    },
    "collapsed": true
   },
   "outputs": [],
   "source": [
    "train_X = df_train_merchant_text[\"all_text\"].fillna(\"_##_\").values\n",
    "test_X =  df_test_merchant_text[\"all_text\"].fillna(\"_##_\").values"
   ]
  },
  {
   "cell_type": "code",
   "execution_count": 44,
   "metadata": {
    "ExecuteTime": {
     "end_time": "2019-02-20T08:48:25.179325Z",
     "start_time": "2019-02-20T08:46:37.559974Z"
    },
    "collapsed": true
   },
   "outputs": [],
   "source": [
    "maxlen = 500\n",
    "## Tokenize the sentences\n",
    "tokenizer = Tokenizer(num_words=340000)\n",
    "tokenizer.fit_on_texts(list(train_X)+list(test_X))\n",
    "train_X = tokenizer.texts_to_sequences(train_X)\n",
    "test_X = tokenizer.texts_to_sequences(test_X)\n",
    "\n",
    "## Pad the sentences \n",
    "train_X = pad_sequences(train_X, maxlen=maxlen)\n",
    "test_X = pad_sequences(test_X, maxlen=maxlen)\n"
   ]
  },
  {
   "cell_type": "code",
   "execution_count": 45,
   "metadata": {
    "ExecuteTime": {
     "end_time": "2019-02-20T08:48:25.206181Z",
     "start_time": "2019-02-20T08:48:25.181261Z"
    },
    "collapsed": true
   },
   "outputs": [],
   "source": [
    "def load_w2v(word_index,max_words=340000, embed_size=300):\n",
    "    EMBEDDING_FILE = '../input/merchant_w2v_300.txt'\n",
    "    emb_mean, emb_std = -0.005838499, 0.48782197\n",
    "\n",
    "    embedding_matrix = np.random.normal(emb_mean, emb_std, (max_words, embed_size))\n",
    "    with open(EMBEDDING_FILE, 'r', encoding=\"utf8\",errors='ignore') as f:\n",
    "        for line in f:\n",
    "            word, vec = line.split(' ', 1)\n",
    "            if word not in word_index:\n",
    "                continue\n",
    "            i = word_index[word]\n",
    "            if i >= max_words:\n",
    "                continue\n",
    "            embedding_vector = np.asarray(vec.split(' '), dtype='float32')[:300]\n",
    "            if len(embedding_vector) == 300:\n",
    "                embedding_matrix[i] = embedding_vector\n",
    "    return embedding_matrix\n"
   ]
  },
  {
   "cell_type": "code",
   "execution_count": 46,
   "metadata": {
    "ExecuteTime": {
     "end_time": "2019-02-20T08:48:33.434663Z",
     "start_time": "2019-02-20T08:48:25.208587Z"
    },
    "collapsed": true
   },
   "outputs": [],
   "source": [
    "embedding_matrix = load_w2v(tokenizer.word_index)"
   ]
  },
  {
   "cell_type": "code",
   "execution_count": 47,
   "metadata": {
    "ExecuteTime": {
     "end_time": "2019-02-20T08:48:35.062163Z",
     "start_time": "2019-02-20T08:48:33.436693Z"
    }
   },
   "outputs": [
    {
     "name": "stderr",
     "output_type": "stream",
     "text": [
      "Using TensorFlow backend.\n"
     ]
    }
   ],
   "source": [
    "from keras.layers import *\n",
    "from keras.models import *\n",
    "from keras.preprocessing.text import Tokenizer\n",
    "from keras.preprocessing.sequence import pad_sequences\n",
    "from keras.layers import Dense, Input, LSTM, Embedding, Dropout, Activation, CuDNNGRU, Conv1D\n",
    "from keras.layers import Bidirectional, GlobalMaxPool1D\n",
    "from keras.models import Model\n",
    "from keras import initializers, regularizers, constraints, optimizers, layers\n",
    "from keras.layers import GlobalAveragePooling1D,GlobalMaxPooling1D,concatenate,BatchNormalization\n",
    "from keras.callbacks import EarlyStopping, ModelCheckpoint\n",
    "from keras.optimizers import Adam, RMSprop\n",
    "from keras import optimizers\n",
    "\n",
    "import tensorflow as tf\n",
    "\n",
    "def squash(x, axis=-1):\n",
    "    # s_squared_norm is really small\n",
    "    # s_squared_norm = K.sum(K.square(x), axis, keepdims=True) + K.epsilon()\n",
    "    # scale = K.sqrt(s_squared_norm)/ (0.5 + s_squared_norm)\n",
    "    # return scale * x\n",
    "    s_squared_norm = K.sum(K.square(x), axis, keepdims=True)\n",
    "    scale = K.sqrt(s_squared_norm + K.epsilon())\n",
    "    return x / scale\n",
    "# A Capsule Implement with Pure Keras\n",
    "class Capsule(Layer):\n",
    "    def __init__(self, num_capsule, dim_capsule, routings=3, kernel_size=(9, 1), share_weights=True,\n",
    "                 activation='default', **kwargs):\n",
    "        super(Capsule, self).__init__(**kwargs)\n",
    "        self.num_capsule = num_capsule\n",
    "        self.dim_capsule = dim_capsule\n",
    "        self.routings = routings\n",
    "        self.kernel_size = kernel_size\n",
    "        self.share_weights = share_weights\n",
    "        if activation == 'default':\n",
    "            self.activation = squash\n",
    "        else:\n",
    "            self.activation = Activation(activation)\n",
    "\n",
    "    def build(self, input_shape):\n",
    "        super(Capsule, self).build(input_shape)\n",
    "        input_dim_capsule = input_shape[-1]\n",
    "        if self.share_weights:\n",
    "            self.W = self.add_weight(name='capsule_kernel',\n",
    "                                     shape=(1, input_dim_capsule,\n",
    "                                            self.num_capsule * self.dim_capsule),\n",
    "                                     # shape=self.kernel_size,\n",
    "                                     initializer='glorot_uniform',\n",
    "                                     trainable=True)\n",
    "        else:\n",
    "            input_num_capsule = input_shape[-2]\n",
    "            self.W = self.add_weight(name='capsule_kernel',\n",
    "                                     shape=(input_num_capsule,\n",
    "                                            input_dim_capsule,\n",
    "                                            self.num_capsule * self.dim_capsule),\n",
    "                                     initializer='glorot_uniform',\n",
    "                                     trainable=True)\n",
    "\n",
    "    def call(self, u_vecs):\n",
    "        if self.share_weights:\n",
    "            u_hat_vecs = K.conv1d(u_vecs, self.W)\n",
    "        else:\n",
    "            u_hat_vecs = K.local_conv1d(u_vecs, self.W, [1], [1])\n",
    "\n",
    "        batch_size = K.shape(u_vecs)[0]\n",
    "        input_num_capsule = K.shape(u_vecs)[1]\n",
    "        u_hat_vecs = K.reshape(u_hat_vecs, (batch_size, input_num_capsule,\n",
    "                                            self.num_capsule, self.dim_capsule))\n",
    "        u_hat_vecs = K.permute_dimensions(u_hat_vecs, (0, 2, 1, 3))\n",
    "        # final u_hat_vecs.shape = [None, num_capsule, input_num_capsule, dim_capsule]\n",
    "\n",
    "        b = K.zeros_like(u_hat_vecs[:, :, :, 0])  # shape = [None, num_capsule, input_num_capsule]\n",
    "        for i in range(self.routings):\n",
    "            b = K.permute_dimensions(b, (0, 2, 1))  # shape = [None, input_num_capsule, num_capsule]\n",
    "            c = K.softmax(b)\n",
    "            c = K.permute_dimensions(c, (0, 2, 1))\n",
    "            b = K.permute_dimensions(b, (0, 2, 1))\n",
    "            outputs = self.activation(tf.keras.backend.batch_dot(c, u_hat_vecs, [2, 2]))\n",
    "            if i < self.routings - 1:\n",
    "                b = tf.keras.backend.batch_dot(outputs, u_hat_vecs, [2, 3])\n",
    "\n",
    "        return outputs\n",
    "\n",
    "    def compute_output_shape(self, input_shape):\n",
    "        return (None, self.num_capsule, self.dim_capsule)\n",
    "\n",
    "class AttentionWeightedAverage(Layer):\n",
    "    \"\"\"\n",
    "    Computes a weighted average of the different channels across timesteps.\n",
    "    Uses 1 parameter pr. channel to compute the attention value for a single timestep.\n",
    "    \"\"\"\n",
    "\n",
    "    def __init__(self, return_attention=False, **kwargs):\n",
    "        self.init = initializers.get('uniform')\n",
    "        self.supports_masking = True\n",
    "        self.return_attention = return_attention\n",
    "        super(AttentionWeightedAverage, self).__init__(**kwargs)\n",
    "\n",
    "    def build(self, input_shape):\n",
    "        self.input_spec = [InputSpec(ndim=3)]\n",
    "        asfrom sklearn.feature_extration.text import  TfidfVetorizer\n",
    "sert len(input_shape) == 3\n",
    "\n",
    "        self.W = self.add_weight(shape=(input_shape[2], 1),\n",
    "                                 name='{}_W'.format(self.name),\n",
    "                                 initializer=self.init)\n",
    "        self.trainable_weights = [self.W]\n",
    "        super(AttentionWeightedAverage, self).build(input_shape)\n",
    "\n",
    "    def call(self, x, mask=None):\n",
    "        # computes a probability distribution over the timesteps\n",
    "        # uses 'max trick' for numerical stability\n",
    "        # reshape is done to avoid issue with Tensorflow\n",
    "        # and 1-dimensional weights\n",
    "        logits = K.dot(x, self.W)\n",
    "        x_shape = K.shape(x)\n",
    "        logits = K.reshape(logits, (x_shape[0], x_shape[1]))\n",
    "        ai = K.exp(logits - K.max(logits, axis=-1, keepdims=True))\n",
    "\n",
    "        # masked timesteps have zero weight\n",
    "        if mask is not None:\n",
    "            mask = K.cast(mask, K.floatx())\n",
    "            ai = ai * mask\n",
    "        att_weights = ai / (K.sum(ai, axis=1, keepdims=True) + K.epsilon())\n",
    "        weighted_input = x * K.expand_dims(att_weights)\n",
    "        result = K.sum(weighted_input, axis=1)\n",
    "        if self.return_attention:\n",
    "            return [result, att_weights]\n",
    "        return result\n",
    "\n",
    "    def get_output_shape_for(self, input_shape):\n",
    "        return self.compute_output_shape(input_shape)\n",
    "\n",
    "    def compute_output_shape(self, input_shape):\n",
    "        output_len = input_shape[2]\n",
    "        if self.return_attention:\n",
    "            return [(input_shape[0], output_len), (input_shape[0], input_shape[1])]\n",
    "        return (input_shape[0], output_len)\n",
    "\n",
    "    def compute_mask(self, input, input_mask=None):\n",
    "        if isinstance(input_mask, list):\n",
    "            return [None] * len(input_mask)\n",
    "        else:\n",
    "            return None\n",
    "class Attention(Layer):\n",
    "    def __init__(self, step_dim,\n",
    "                 W_regularizer=None, b_regularizer=None,\n",
    "                 W_constraint=None, b_constraint=None,\n",
    "                 bias=True, **kwargs):\n",
    "        self.supports_masking = True\n",
    "        self.init = initializers.get('glorot_uniform')\n",
    "\n",
    "        self.W_regularizer = regularizers.get(W_regularizer)\n",
    "        self.b_regularizer = regularizers.get(b_regularizer)\n",
    "\n",
    "        self.W_constraint = constraints.get(W_constraint)\n",
    "        self.b_constraint = constraints.get(b_constraint)\n",
    "\n",
    "        self.bias = bias\n",
    "        self.step_dim = step_dim\n",
    "        self.features_dim = 0\n",
    "        super(Attention, self).__init__(**kwargs)\n",
    "\n",
    "    def build(self, input_shape):\n",
    "        assert len(input_shape) == 3\n",
    "\n",
    "        self.W = self.add_weight((input_shape[-1],),\n",
    "                                 initializer=self.init,\n",
    "                                 name='{}_W'.format(self.name),\n",
    "                                 regularizer=self.W_regularizer,\n",
    "                                 constraint=self.W_constraint)\n",
    "        self.features_dim = input_shape[-1]\n",
    "\n",
    "        if self.bias:\n",
    "            self.b = self.add_weight((input_shape[1],),\n",
    "                                     initializer='zero',\n",
    "                                     name='{}_b'.format(self.name),\n",
    "                                     regularizer=self.b_regularizer,\n",
    "                                     constraint=self.b_constraint)\n",
    "        else:\n",
    "            self.b = None\n",
    "\n",
    "        self.built = True\n",
    "\n",
    "    def compute_mask(self, input, input_mask=None):\n",
    "        return None\n",
    "\n",
    "    def call(self, x, mask=None):\n",
    "        features_dim = self.features_dim\n",
    "        step_dim = self.step_dim\n",
    "\n",
    "        eij = K.reshape(K.dot(K.reshape(x, (-1, features_dim)),\n",
    "                        K.reshape(self.W, (features_dim, 1))), (-1, step_dim))\n",
    "\n",
    "        if self.bias:\n",
    "            eij += self.b\n",
    "\n",
    "        eij = K.tanh(eij)\n",
    "\n",
    "        a = K.exp(eij)\n",
    "\n",
    "        if mask is not None:\n",
    "            a *= K.cast(mask, K.floatx())\n",
    "\n",
    "        a /= K.cast(K.sum(a, axis=1, keepdims=True) + K.epsilon(), K.floatx())\n",
    "\n",
    "        a = K.expand_dims(a)\n",
    "        weighted_input = x * a\n",
    "        return K.sum(weighted_input, axis=1)\n",
    "    def compute_output_shape(self, input_shape):\n",
    "        return input_shape[0],  self.features_dim\n"
   ]
  },
  {
   "cell_type": "code",
   "execution_count": 48,
   "metadata": {
    "ExecuteTime": {
     "end_time": "2019-02-20T08:48:35.120509Z",
     "start_time": "2019-02-20T08:48:35.064028Z"
    },
    "collapsed": true
   },
   "outputs": [],
   "source": [
    "def model_lstm_atten(embedding_matrix):\n",
    "    max_features =  340000\n",
    "    embed_size   =  300\n",
    "    inp = Input(shape=(maxlen,))\n",
    "    x = Embedding(max_features, embed_size, weights=[embedding_matrix], trainable=False)(inp)\n",
    "    x = SpatialDropout1D(0.2)(x)\n",
    "\n",
    "    rnn= Bidirectional(CuDNNLSTM(50,return_sequences=True))(x)\n",
    "\n",
    "    cnn1 = Conv1D(filters=64, kernel_size=3, activation='relu', padding='same')(rnn)\n",
    "    cnn2 = Conv1D(filters=64, kernel_size=4, activation='relu', padding='same')(rnn)\n",
    "    cnn3 = Conv1D(filters=64, kernel_size=5, activation='relu', padding='same')(rnn)\n",
    "    x = concatenate([rnn, cnn1, cnn2, cnn3])\n",
    "    avg_pool = GlobalAveragePooling1D()(x)\n",
    "    max_pool = GlobalMaxPooling1D()(x)\n",
    "    attn = AttentionWeightedAverage()(x)\n",
    "    x = concatenate([avg_pool, max_pool, attn])\n",
    "\n",
    "    x = Dropout(0.2)(x)\n",
    "    x = BatchNormalization()(x)\n",
    "    x = Dense(300,activation='elu')(x)\n",
    "    x = BatchNormalization()(x)\n",
    "    outp = Dense(1, activation=\"sigmoid\")(x) \n",
    "\n",
    "    model = Model(inputs=inp, outputs=outp)\n",
    "    model.compile(loss='binary_crossentropy', optimizer='adam')\n",
    "    \n",
    "    return model"
   ]
  },
  {
   "cell_type": "code",
   "execution_count": 49,
   "metadata": {
    "ExecuteTime": {
     "end_time": "2019-02-20T08:48:35.201668Z",
     "start_time": "2019-02-20T08:48:35.122370Z"
    },
    "collapsed": true
   },
   "outputs": [],
   "source": [
    "df_train_merchant_text['outliers'] = 0\n",
    "df_train_merchant_text.loc[df_train['target'] < -30, 'outliers'] = 1\n",
    "train_y = df_train_merchant_text['outliers'].values"
   ]
  },
  {
   "cell_type": "code",
   "execution_count": 50,
   "metadata": {
    "ExecuteTime": {
     "end_time": "2019-02-20T10:08:15.649453Z",
     "start_time": "2019-02-20T08:48:35.203660Z"
    }
   },
   "outputs": [
    {
     "name": "stdout",
     "output_type": "stream",
     "text": [
      "开始第 1 折训练\n",
      "Train on 161533 samples, validate on 40384 samples\n",
      "Epoch 1/20\n",
      "161533/161533 [==============================] - 121s 747us/step - loss: 0.1750 - val_loss: 0.0586\n",
      "Epoch 2/20\n",
      "161533/161533 [==============================] - 118s 730us/step - loss: 0.0607 - val_loss: 0.0586\n",
      "Epoch 3/20\n",
      "161533/161533 [==============================] - 118s 734us/step - loss: 0.0595 - val_loss: 0.0575\n",
      "Epoch 4/20\n",
      "161533/161533 [==============================] - 118s 734us/step - loss: 0.0585 - val_loss: 0.0593\n",
      "Epoch 5/20\n",
      "161533/161533 [==============================] - 118s 733us/step - loss: 0.0579 - val_loss: 0.0582\n",
      "开始第 2 折训练\n",
      "Train on 161533 samples, validate on 40384 samples\n",
      "Epoch 1/20\n",
      "161533/161533 [==============================] - 120s 742us/step - loss: 0.1782 - val_loss: 0.0667\n",
      "Epoch 2/20\n",
      "161533/161533 [==============================] - 118s 732us/step - loss: 0.0607 - val_loss: 0.0582\n",
      "Epoch 3/20\n",
      "161533/161533 [==============================] - 119s 734us/step - loss: 0.0593 - val_loss: 0.0594\n",
      "Epoch 4/20\n",
      "161533/161533 [==============================] - 118s 733us/step - loss: 0.0584 - val_loss: 0.0577\n",
      "Epoch 5/20\n",
      "161533/161533 [==============================] - 118s 733us/step - loss: 0.0577 - val_loss: 0.0575\n",
      "Epoch 6/20\n",
      "161533/161533 [==============================] - 119s 734us/step - loss: 0.0566 - val_loss: 0.0574\n",
      "Epoch 7/20\n",
      "161533/161533 [==============================] - 118s 733us/step - loss: 0.0556 - val_loss: 0.0578\n",
      "Epoch 8/20\n",
      "161533/161533 [==============================] - 118s 733us/step - loss: 0.0541 - val_loss: 0.0625\n",
      "开始第 3 折训练\n",
      "Train on 161534 samples, validate on 40383 samples\n",
      "Epoch 1/20\n",
      "161534/161534 [==============================] - 120s 743us/step - loss: 0.1823 - val_loss: 0.0593\n",
      "Epoch 2/20\n",
      "161534/161534 [==============================] - 118s 733us/step - loss: 0.0607 - val_loss: 0.0592\n",
      "Epoch 3/20\n",
      "161534/161534 [==============================] - 118s 733us/step - loss: 0.0592 - val_loss: 0.0603\n",
      "Epoch 4/20\n",
      "161534/161534 [==============================] - 118s 733us/step - loss: 0.0584 - val_loss: 0.0571\n",
      "Epoch 5/20\n",
      "161534/161534 [==============================] - 118s 733us/step - loss: 0.0578 - val_loss: 0.0575\n",
      "Epoch 6/20\n",
      "161534/161534 [==============================] - 119s 734us/step - loss: 0.0570 - val_loss: 0.0576\n",
      "开始第 4 折训练\n",
      "Train on 161534 samples, validate on 40383 samples\n",
      "Epoch 1/20\n",
      "161534/161534 [==============================] - 120s 741us/step - loss: 0.1766 - val_loss: 0.0594\n",
      "Epoch 2/20\n",
      "161534/161534 [==============================] - 119s 734us/step - loss: 0.0606 - val_loss: 0.0589\n",
      "Epoch 3/20\n",
      "161534/161534 [==============================] - 118s 732us/step - loss: 0.0595 - val_loss: 0.0590\n",
      "Epoch 4/20\n",
      "161534/161534 [==============================] - 118s 733us/step - loss: 0.0590 - val_loss: 0.0584\n",
      "Epoch 5/20\n",
      "161534/161534 [==============================] - 119s 735us/step - loss: 0.0580 - val_loss: 0.0590\n",
      "Epoch 6/20\n",
      "161534/161534 [==============================] - 118s 732us/step - loss: 0.0570 - val_loss: 0.0575\n",
      "Epoch 7/20\n",
      "161534/161534 [==============================] - 118s 733us/step - loss: 0.0564 - val_loss: 0.0581\n",
      "Epoch 8/20\n",
      "161534/161534 [==============================] - 119s 735us/step - loss: 0.0550 - val_loss: 0.0589\n",
      "开始第 5 折训练\n",
      "Train on 161534 samples, validate on 40383 samples\n",
      "Epoch 1/20\n",
      "161534/161534 [==============================] - 120s 744us/step - loss: 0.1857 - val_loss: 0.0594\n",
      "Epoch 2/20\n",
      "161534/161534 [==============================] - 119s 736us/step - loss: 0.0607 - val_loss: 0.0591\n",
      "Epoch 3/20\n",
      "161534/161534 [==============================] - 119s 735us/step - loss: 0.0591 - val_loss: 0.0584\n",
      "Epoch 4/20\n",
      "161534/161534 [==============================] - 119s 735us/step - loss: 0.0582 - val_loss: 0.0579\n",
      "Epoch 5/20\n",
      "161534/161534 [==============================] - 119s 736us/step - loss: 0.0578 - val_loss: 0.0588\n",
      "Epoch 6/20\n",
      "161534/161534 [==============================] - 119s 734us/step - loss: 0.0571 - val_loss: 0.0576\n",
      "Epoch 7/20\n",
      "161534/161534 [==============================] - 119s 735us/step - loss: 0.0558 - val_loss: 0.0601\n",
      "Epoch 8/20\n",
      "161534/161534 [==============================] - 119s 736us/step - loss: 0.0548 - val_loss: 0.0594\n"
     ]
    }
   ],
   "source": [
    "from sklearn.feature_extraction.text import  TfidfVectorizer\n",
    "\n",
    "\n",
    "import tensorflow as tf\n",
    "from keras import backend as K\n",
    " \n",
    "from sklearn.model_selection import  StratifiedKFold\n",
    "import numpy as np\n",
    "from sklearn.svm import  LinearSVC\n",
    "from sklearn.metrics import  f1_score\n",
    "NFOLD=5\n",
    "cnn_oof_train=np.zeros((train_X.shape[0],1))\n",
    "cnn_oof_test=np.zeros((test_X.shape[0],1))\n",
    "cnn_oof_test_skf=np.zeros((NFOLD,test_X.shape[0],1))\n",
    "f1_csv=[]\n",
    "skf=StratifiedKFold(n_splits=NFOLD,shuffle=True,random_state=4590)\n",
    "K.clear_session()\n",
    "tf.reset_default_graph()\n",
    "for i,(idtrain_X,idtest_X) in  enumerate(skf.split(train_X,train_y)):\n",
    "    print(\"开始第 %s 折训练\"%(i+1))\n",
    "    tr_x,tr_y=train_X[idtrain_X],train_y[idtrain_X]\n",
    "    te_x,te_y=train_X[idtest_X],train_y[idtest_X]\n",
    "    model = model_lstm_atten(embedding_matrix)\n",
    "    early_stopping = EarlyStopping(monitor=\"val_loss\", patience=2)\n",
    "    best_model_path = \"best_t_weight.h5\"\n",
    "    model_checkpoint = ModelCheckpoint(best_model_path, save_best_only=True, save_weights_only=True)\n",
    "    model.fit(tr_x, tr_y, \n",
    "              batch_size= 512, \n",
    "              epochs=20,\n",
    "              shuffle=True,\n",
    "              validation_data=(te_x, te_y),\n",
    "             callbacks=[model_checkpoint, early_stopping])\n",
    "    val_y=model.predict(te_x)\n",
    "    cnn_oof_train[idtest_X]=val_y\n",
    "    cnn_oof_test_skf[i,:]=model.predict(test_X)\n",
    "    K.clear_session()\n",
    "    tf.reset_default_graph()"
   ]
  },
  {
   "cell_type": "code",
   "execution_count": 51,
   "metadata": {
    "ExecuteTime": {
     "end_time": "2019-02-20T10:08:15.699187Z",
     "start_time": "2019-02-20T10:08:15.651496Z"
    }
   },
   "outputs": [
    {
     "name": "stdout",
     "output_type": "stream",
     "text": [
      "0.05931284193077542\n"
     ]
    }
   ],
   "source": [
    "from  sklearn.metrics import log_loss\n",
    "\n",
    "mean_loss = log_loss(train_y,cnn_oof_train)\n",
    "print(mean_loss)"
   ]
  },
  {
   "cell_type": "code",
   "execution_count": 52,
   "metadata": {
    "ExecuteTime": {
     "end_time": "2019-02-20T10:08:16.676361Z",
     "start_time": "2019-02-20T10:08:15.700996Z"
    },
    "collapsed": true
   },
   "outputs": [],
   "source": [
    "train_prob=pd.DataFrame(cnn_oof_train)\n",
    "train_prob.columns=['class1']\n",
    "train_prob.to_csv(\"class_oof/nn_train_prob_%s.csv\"%mean_loss,index=False)\n",
    "\n",
    "cnn_oof_test  =  cnn_oof_test_skf.mean(axis=0)\n",
    "\n",
    "test_prob=pd.DataFrame(cnn_oof_test)\n",
    "test_prob.columns=['class1']\n",
    "test_prob.to_csv(\"class_oof/nn_test_prob_%s.csv\"%mean_loss,index=False)\n",
    "\n"
   ]
  },
  {
   "cell_type": "code",
   "execution_count": null,
   "metadata": {
    "collapsed": true
   },
   "outputs": [],
   "source": []
  }
 ],
 "metadata": {
  "kernelspec": {
   "display_name": "Python 3",
   "language": "python",
   "name": "python3"
  },
  "language_info": {
   "codemirror_mode": {
    "name": "ipython",
    "version": 3
   },
   "file_extension": ".py",
   "mimetype": "text/x-python",
   "name": "python",
   "nbconvert_exporter": "python",
   "pygments_lexer": "ipython3",
   "version": "3.6.3"
  }
 },
 "nbformat": 4,
 "nbformat_minor": 2
}

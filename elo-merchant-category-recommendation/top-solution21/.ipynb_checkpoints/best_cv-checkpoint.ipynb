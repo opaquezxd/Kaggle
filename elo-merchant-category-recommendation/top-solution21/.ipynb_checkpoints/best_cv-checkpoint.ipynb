{
 "cells": [
  {
   "cell_type": "code",
   "execution_count": 1,
   "metadata": {
    "ExecuteTime": {
     "end_time": "2019-02-20T04:29:41.563008Z",
     "start_time": "2019-02-20T04:29:40.668235Z"
    },
    "_cell_guid": "79c7e3d0-c299-4dcb-8224-4455121ee9b0",
    "_uuid": "d629ff2d2480ee46fbb7e2d37f6b5fab8052498a",
    "collapsed": true
   },
   "outputs": [],
   "source": [
    "import numpy as np \n",
    "import pandas as pd \n",
    "import matplotlib.pyplot as plt\n",
    "import matplotlib.gridspec as gridspec\n",
    "import seaborn as sns\n",
    "\n",
    "import lightgbm as lgb\n",
    "from sklearn.model_selection import KFold, StratifiedKFold\n",
    "from sklearn.preprocessing import LabelEncoder, MinMaxScaler\n",
    "\n",
    "import warnings\n",
    "import time\n",
    "import sys\n",
    "import datetime\n",
    "from sklearn.metrics import accuracy_score, mean_squared_error\n",
    "from sklearn.linear_model import BayesianRidge\n",
    "warnings.simplefilter(action='ignore', category=FutureWarning)\n",
    "warnings.simplefilter(action='ignore', category=UserWarning)\n",
    "import gc\n",
    "pd.set_option('display.width',None)\n",
    "pd.set_option('display.max_rows', None)\n",
    "pd.set_option('display.max_columns', None)\n",
    "pd.set_option('display.max_info_columns', 500)\n",
    "np.random.seed(4950)"
   ]
  },
  {
   "cell_type": "code",
   "execution_count": 2,
   "metadata": {
    "ExecuteTime": {
     "end_time": "2019-02-20T04:29:44.826301Z",
     "start_time": "2019-02-20T04:29:41.565033Z"
    },
    "_uuid": "5ecf41453acfe45b3e0a46cb7f2e86b62c5e6835"
   },
   "outputs": [
    {
     "ename": "KeyboardInterrupt",
     "evalue": "",
     "output_type": "error",
     "traceback": [
      "\u001b[0;31m---------------------------------------------------------------------------\u001b[0m",
      "\u001b[0;31mKeyboardInterrupt\u001b[0m                         Traceback (most recent call last)",
      "\u001b[0;32m<ipython-input-2-761455d7f669>\u001b[0m in \u001b[0;36m<module>\u001b[0;34m()\u001b[0m\n\u001b[0;32m----> 1\u001b[0;31m \u001b[0mtrain\u001b[0m \u001b[0;34m=\u001b[0m \u001b[0mpd\u001b[0m\u001b[0;34m.\u001b[0m\u001b[0mread_csv\u001b[0m\u001b[0;34m(\u001b[0m\u001b[0;34m\"./data/pre_train_clip.csv\"\u001b[0m\u001b[0;34m,\u001b[0m \u001b[0mindex_col\u001b[0m\u001b[0;34m=\u001b[0m\u001b[0;36m0\u001b[0m\u001b[0;34m)\u001b[0m\u001b[0;34m\u001b[0m\u001b[0m\n\u001b[0m\u001b[1;32m      2\u001b[0m train.drop(columns=[\n\u001b[1;32m      3\u001b[0m     \u001b[0;34m'hist_first_year'\u001b[0m\u001b[0;34m,\u001b[0m \u001b[0;34m'hist_first_quarter'\u001b[0m\u001b[0;34m,\u001b[0m \u001b[0;34m'hist_first_month'\u001b[0m\u001b[0;34m,\u001b[0m\u001b[0;34m\u001b[0m\u001b[0m\n\u001b[1;32m      4\u001b[0m     \u001b[0;34m'hist_now_year'\u001b[0m\u001b[0;34m,\u001b[0m \u001b[0;34m'hist_now_quarter'\u001b[0m\u001b[0;34m,\u001b[0m \u001b[0;34m'hist_now_month'\u001b[0m\u001b[0;34m,\u001b[0m\u001b[0;34m\u001b[0m\u001b[0m\n\u001b[1;32m      5\u001b[0m \u001b[0;34m\u001b[0m\u001b[0m\n",
      "\u001b[0;32m~/anaconda3/lib/python3.6/site-packages/pandas/io/parsers.py\u001b[0m in \u001b[0;36mparser_f\u001b[0;34m(filepath_or_buffer, sep, delimiter, header, names, index_col, usecols, squeeze, prefix, mangle_dupe_cols, dtype, engine, converters, true_values, false_values, skipinitialspace, skiprows, skipfooter, nrows, na_values, keep_default_na, na_filter, verbose, skip_blank_lines, parse_dates, infer_datetime_format, keep_date_col, date_parser, dayfirst, iterator, chunksize, compression, thousands, decimal, lineterminator, quotechar, quoting, doublequote, escapechar, comment, encoding, dialect, tupleize_cols, error_bad_lines, warn_bad_lines, delim_whitespace, low_memory, memory_map, float_precision)\u001b[0m\n\u001b[1;32m    700\u001b[0m                     skip_blank_lines=skip_blank_lines)\n\u001b[1;32m    701\u001b[0m \u001b[0;34m\u001b[0m\u001b[0m\n\u001b[0;32m--> 702\u001b[0;31m         \u001b[0;32mreturn\u001b[0m \u001b[0m_read\u001b[0m\u001b[0;34m(\u001b[0m\u001b[0mfilepath_or_buffer\u001b[0m\u001b[0;34m,\u001b[0m \u001b[0mkwds\u001b[0m\u001b[0;34m)\u001b[0m\u001b[0;34m\u001b[0m\u001b[0m\n\u001b[0m\u001b[1;32m    703\u001b[0m \u001b[0;34m\u001b[0m\u001b[0m\n\u001b[1;32m    704\u001b[0m     \u001b[0mparser_f\u001b[0m\u001b[0;34m.\u001b[0m\u001b[0m__name__\u001b[0m \u001b[0;34m=\u001b[0m \u001b[0mname\u001b[0m\u001b[0;34m\u001b[0m\u001b[0m\n",
      "\u001b[0;32m~/anaconda3/lib/python3.6/site-packages/pandas/io/parsers.py\u001b[0m in \u001b[0;36m_read\u001b[0;34m(filepath_or_buffer, kwds)\u001b[0m\n\u001b[1;32m    433\u001b[0m \u001b[0;34m\u001b[0m\u001b[0m\n\u001b[1;32m    434\u001b[0m     \u001b[0;32mtry\u001b[0m\u001b[0;34m:\u001b[0m\u001b[0;34m\u001b[0m\u001b[0m\n\u001b[0;32m--> 435\u001b[0;31m         \u001b[0mdata\u001b[0m \u001b[0;34m=\u001b[0m \u001b[0mparser\u001b[0m\u001b[0;34m.\u001b[0m\u001b[0mread\u001b[0m\u001b[0;34m(\u001b[0m\u001b[0mnrows\u001b[0m\u001b[0;34m)\u001b[0m\u001b[0;34m\u001b[0m\u001b[0m\n\u001b[0m\u001b[1;32m    436\u001b[0m     \u001b[0;32mfinally\u001b[0m\u001b[0;34m:\u001b[0m\u001b[0;34m\u001b[0m\u001b[0m\n\u001b[1;32m    437\u001b[0m         \u001b[0mparser\u001b[0m\u001b[0;34m.\u001b[0m\u001b[0mclose\u001b[0m\u001b[0;34m(\u001b[0m\u001b[0;34m)\u001b[0m\u001b[0;34m\u001b[0m\u001b[0m\n",
      "\u001b[0;32m~/anaconda3/lib/python3.6/site-packages/pandas/io/parsers.py\u001b[0m in \u001b[0;36mread\u001b[0;34m(self, nrows)\u001b[0m\n\u001b[1;32m   1137\u001b[0m     \u001b[0;32mdef\u001b[0m \u001b[0mread\u001b[0m\u001b[0;34m(\u001b[0m\u001b[0mself\u001b[0m\u001b[0;34m,\u001b[0m \u001b[0mnrows\u001b[0m\u001b[0;34m=\u001b[0m\u001b[0;32mNone\u001b[0m\u001b[0;34m)\u001b[0m\u001b[0;34m:\u001b[0m\u001b[0;34m\u001b[0m\u001b[0m\n\u001b[1;32m   1138\u001b[0m         \u001b[0mnrows\u001b[0m \u001b[0;34m=\u001b[0m \u001b[0m_validate_integer\u001b[0m\u001b[0;34m(\u001b[0m\u001b[0;34m'nrows'\u001b[0m\u001b[0;34m,\u001b[0m \u001b[0mnrows\u001b[0m\u001b[0;34m)\u001b[0m\u001b[0;34m\u001b[0m\u001b[0m\n\u001b[0;32m-> 1139\u001b[0;31m         \u001b[0mret\u001b[0m \u001b[0;34m=\u001b[0m \u001b[0mself\u001b[0m\u001b[0;34m.\u001b[0m\u001b[0m_engine\u001b[0m\u001b[0;34m.\u001b[0m\u001b[0mread\u001b[0m\u001b[0;34m(\u001b[0m\u001b[0mnrows\u001b[0m\u001b[0;34m)\u001b[0m\u001b[0;34m\u001b[0m\u001b[0m\n\u001b[0m\u001b[1;32m   1140\u001b[0m \u001b[0;34m\u001b[0m\u001b[0m\n\u001b[1;32m   1141\u001b[0m         \u001b[0;31m# May alter columns / col_dict\u001b[0m\u001b[0;34m\u001b[0m\u001b[0;34m\u001b[0m\u001b[0m\n",
      "\u001b[0;32m~/anaconda3/lib/python3.6/site-packages/pandas/io/parsers.py\u001b[0m in \u001b[0;36mread\u001b[0;34m(self, nrows)\u001b[0m\n\u001b[1;32m   1993\u001b[0m     \u001b[0;32mdef\u001b[0m \u001b[0mread\u001b[0m\u001b[0;34m(\u001b[0m\u001b[0mself\u001b[0m\u001b[0;34m,\u001b[0m \u001b[0mnrows\u001b[0m\u001b[0;34m=\u001b[0m\u001b[0;32mNone\u001b[0m\u001b[0;34m)\u001b[0m\u001b[0;34m:\u001b[0m\u001b[0;34m\u001b[0m\u001b[0m\n\u001b[1;32m   1994\u001b[0m         \u001b[0;32mtry\u001b[0m\u001b[0;34m:\u001b[0m\u001b[0;34m\u001b[0m\u001b[0m\n\u001b[0;32m-> 1995\u001b[0;31m             \u001b[0mdata\u001b[0m \u001b[0;34m=\u001b[0m \u001b[0mself\u001b[0m\u001b[0;34m.\u001b[0m\u001b[0m_reader\u001b[0m\u001b[0;34m.\u001b[0m\u001b[0mread\u001b[0m\u001b[0;34m(\u001b[0m\u001b[0mnrows\u001b[0m\u001b[0;34m)\u001b[0m\u001b[0;34m\u001b[0m\u001b[0m\n\u001b[0m\u001b[1;32m   1996\u001b[0m         \u001b[0;32mexcept\u001b[0m \u001b[0mStopIteration\u001b[0m\u001b[0;34m:\u001b[0m\u001b[0;34m\u001b[0m\u001b[0m\n\u001b[1;32m   1997\u001b[0m             \u001b[0;32mif\u001b[0m \u001b[0mself\u001b[0m\u001b[0;34m.\u001b[0m\u001b[0m_first_chunk\u001b[0m\u001b[0;34m:\u001b[0m\u001b[0;34m\u001b[0m\u001b[0m\n",
      "\u001b[0;32mpandas/_libs/parsers.pyx\u001b[0m in \u001b[0;36mpandas._libs.parsers.TextReader.read\u001b[0;34m()\u001b[0m\n",
      "\u001b[0;32mpandas/_libs/parsers.pyx\u001b[0m in \u001b[0;36mpandas._libs.parsers.TextReader._read_low_memory\u001b[0;34m()\u001b[0m\n",
      "\u001b[0;32mpandas/_libs/parsers.pyx\u001b[0m in \u001b[0;36mpandas._libs.parsers.TextReader._read_rows\u001b[0;34m()\u001b[0m\n",
      "\u001b[0;32mpandas/_libs/parsers.pyx\u001b[0m in \u001b[0;36mpandas._libs.parsers.TextReader._convert_column_data\u001b[0;34m()\u001b[0m\n",
      "\u001b[0;32mpandas/_libs/parsers.pyx\u001b[0m in \u001b[0;36mpandas._libs.parsers.TextReader._convert_tokens\u001b[0;34m()\u001b[0m\n",
      "\u001b[0;32mpandas/_libs/parsers.pyx\u001b[0m in \u001b[0;36mpandas._libs.parsers.TextReader._convert_with_dtype\u001b[0;34m()\u001b[0m\n",
      "\u001b[0;32m~/anaconda3/lib/python3.6/site-packages/pandas/core/dtypes/common.py\u001b[0m in \u001b[0;36mis_categorical_dtype\u001b[0;34m(arr_or_dtype)\u001b[0m\n\u001b[1;32m    570\u001b[0m \u001b[0;34m\u001b[0m\u001b[0m\n\u001b[1;32m    571\u001b[0m \u001b[0;34m\u001b[0m\u001b[0m\n\u001b[0;32m--> 572\u001b[0;31m \u001b[0;32mdef\u001b[0m \u001b[0mis_categorical_dtype\u001b[0m\u001b[0;34m(\u001b[0m\u001b[0marr_or_dtype\u001b[0m\u001b[0;34m)\u001b[0m\u001b[0;34m:\u001b[0m\u001b[0;34m\u001b[0m\u001b[0m\n\u001b[0m\u001b[1;32m    573\u001b[0m     \"\"\"\n\u001b[1;32m    574\u001b[0m     \u001b[0mCheck\u001b[0m \u001b[0mwhether\u001b[0m \u001b[0man\u001b[0m \u001b[0marray\u001b[0m\u001b[0;34m-\u001b[0m\u001b[0mlike\u001b[0m \u001b[0;32mor\u001b[0m \u001b[0mdtype\u001b[0m \u001b[0;32mis\u001b[0m \u001b[0mof\u001b[0m \u001b[0mthe\u001b[0m \u001b[0mCategorical\u001b[0m \u001b[0mdtype\u001b[0m\u001b[0;34m.\u001b[0m\u001b[0;34m\u001b[0m\u001b[0m\n",
      "\u001b[0;31mKeyboardInterrupt\u001b[0m: "
     ]
    }
   ],
   "source": [
    "train = pd.read_csv(\"./data/pre_train_clip.csv\", index_col=0)\n",
    "train.drop(columns=[\n",
    "    'hist_first_year', 'hist_first_quarter', 'hist_first_month',\n",
    "    'hist_now_year', 'hist_now_quarter', 'hist_now_month',\n",
    "    \n",
    "    'hist_installments_sum', 'hist_i_vs_p2p',\n",
    "    'new_installments_sum', 'new_i_vs_p2p',\n",
    "    'c_i_diff', 'p2p_i_diff',\n",
    "    'c_i_diff_vs', 'p2p_i_diff_vs',\n",
    "\n",
    "#     'hist_sleep', 'hist_sleep_vs_count', 'hist_sleep_vs_p2p',\n",
    "#     'new_sleep', 'new_sleep_vs_count', 'new_sleep_vs_p2p',\n",
    "#     'c_sleep_diff', 'p2p_sleep_diff', \n",
    "    \n",
    "#     'c_p2p_diff_vs', 'c_sleep_diff_vs', 'c_p_diff_vs', \n",
    "#     'p2p_count_diff_vs', 'p2p_sleep_diff_vs', 'p2p_p_diff_vs', \n",
    "                   ], inplace=True)\n",
    "\n",
    "test = pd.read_csv(\"./data/pre_test_clip.csv\", index_col=0)\n",
    "test.drop(columns=[\n",
    "    'hist_first_year', 'hist_first_quarter', 'hist_first_month',\n",
    "    'hist_now_year', 'hist_now_quarter', 'hist_now_month',\n",
    "    \n",
    "    'hist_installments_sum', 'hist_i_vs_p2p',\n",
    "    'new_installments_sum', 'new_i_vs_p2p',\n",
    "    'c_i_diff', 'p2p_i_diff',\n",
    "    'c_i_diff_vs', 'p2p_i_diff_vs',\n",
    "\n",
    "#     'hist_sleep', 'hist_sleep_vs_count', 'hist_sleep_vs_p2p',\n",
    "#     'new_sleep', 'new_sleep_vs_count', 'new_sleep_vs_p2p',\n",
    "#     'c_sleep_diff', 'p2p_sleep_diff', \n",
    "    \n",
    "#     'c_p2p_diff_vs', 'c_sleep_diff_vs', 'c_p_diff_vs', \n",
    "#     'p2p_count_diff_vs', 'p2p_sleep_diff_vs', 'p2p_p_diff_vs', \n",
    "                   ], inplace=True)\n",
    "\n",
    "cats = [\n",
    "        'feature_1', 'feature_2', 'feature_3', \n",
    "#         'hist_first_year', \n",
    "#         'hist_first_quarter', \n",
    "#         'hist_first_month',\n",
    "        'hist_re_year', \n",
    "        'hist_re_quarter', \n",
    "#         'hist_re_month',\n",
    "#         'hist_now_year', \n",
    "#         'hist_now_quarter', \n",
    "#         'hist_now_month',\n",
    "       ]\n",
    "\n",
    "train[cats] = train[cats].fillna(-1, )\n",
    "test[cats] = test[cats].fillna(-1, )"
   ]
  },
  {
   "cell_type": "code",
   "execution_count": null,
   "metadata": {
    "ExecuteTime": {
     "end_time": "2019-02-20T04:29:44.827196Z",
     "start_time": "2019-02-20T04:29:40.568Z"
    },
    "collapsed": true
   },
   "outputs": [],
   "source": [
    "df_train = pd.read_csv('../input/train.csv')\n",
    "df_test = pd.read_csv('../input/test.csv')"
   ]
  },
  {
   "cell_type": "code",
   "execution_count": null,
   "metadata": {
    "ExecuteTime": {
     "end_time": "2019-02-20T04:29:44.828218Z",
     "start_time": "2019-02-20T04:29:40.569Z"
    },
    "collapsed": true
   },
   "outputs": [],
   "source": [
    "#保证读取的train , test 的顺序和原来的数据一样\n",
    "train =  pd.merge(df_train['card_id'],train,how = 'left',on = ['card_id'])\n",
    "test =  pd.merge(df_test['card_id'],test,how = 'left',on = ['card_id'])\n"
   ]
  },
  {
   "cell_type": "code",
   "execution_count": null,
   "metadata": {
    "ExecuteTime": {
     "end_time": "2019-02-20T04:29:44.829189Z",
     "start_time": "2019-02-20T04:29:40.594Z"
    }
   },
   "outputs": [],
   "source": [
    "train.head()"
   ]
  },
  {
   "cell_type": "code",
   "execution_count": null,
   "metadata": {
    "ExecuteTime": {
     "end_time": "2019-02-20T04:29:44.830035Z",
     "start_time": "2019-02-20T04:29:40.597Z"
    },
    "collapsed": true
   },
   "outputs": [],
   "source": [
    "# train['hist_re_year'].unique()"
   ]
  },
  {
   "cell_type": "code",
   "execution_count": null,
   "metadata": {
    "ExecuteTime": {
     "end_time": "2019-02-20T04:29:44.830964Z",
     "start_time": "2019-02-20T04:29:40.599Z"
    }
   },
   "outputs": [],
   "source": [
    "train['hist_re_quarter'].unique()"
   ]
  },
  {
   "cell_type": "code",
   "execution_count": null,
   "metadata": {
    "ExecuteTime": {
     "end_time": "2019-02-20T04:29:44.831866Z",
     "start_time": "2019-02-20T04:29:40.601Z"
    }
   },
   "outputs": [],
   "source": [
    "train['hist_re_month'].unique()"
   ]
  },
  {
   "cell_type": "code",
   "execution_count": null,
   "metadata": {
    "ExecuteTime": {
     "end_time": "2019-02-20T04:29:44.832845Z",
     "start_time": "2019-02-20T04:29:40.615Z"
    }
   },
   "outputs": [],
   "source": [
    "test[test['card_id']=='C_ID_c27b4f80f7']"
   ]
  },
  {
   "cell_type": "code",
   "execution_count": null,
   "metadata": {
    "ExecuteTime": {
     "end_time": "2019-02-20T04:29:44.833817Z",
     "start_time": "2019-02-20T04:29:40.617Z"
    },
    "collapsed": true
   },
   "outputs": [],
   "source": [
    "data = pd.concat([train, test])    \n",
    "data.reset_index(drop=True, inplace=True)\n",
    "\n",
    "for feat in cats:\n",
    "    lbe = LabelEncoder()\n",
    "    data[feat] = lbe.fit_transform(data[feat])\n",
    "#     data[feat][data[feat]>=0] = lbe.fit_transform(data[feat][data[feat]>=0])"
   ]
  },
  {
   "cell_type": "code",
   "execution_count": null,
   "metadata": {
    "ExecuteTime": {
     "end_time": "2019-02-20T04:29:44.834745Z",
     "start_time": "2019-02-20T04:29:40.618Z"
    },
    "collapsed": true
   },
   "outputs": [],
   "source": [
    "train[cats] = data[0:201917][cats]"
   ]
  },
  {
   "cell_type": "code",
   "execution_count": null,
   "metadata": {
    "ExecuteTime": {
     "end_time": "2019-02-20T04:29:44.835767Z",
     "start_time": "2019-02-20T04:29:40.620Z"
    },
    "collapsed": true
   },
   "outputs": [],
   "source": [
    "tmp = data[201917:][cats].reset_index(drop=True)\n",
    "test[cats] = tmp"
   ]
  },
  {
   "cell_type": "code",
   "execution_count": null,
   "metadata": {
    "ExecuteTime": {
     "end_time": "2019-02-20T04:29:44.836735Z",
     "start_time": "2019-02-20T04:29:40.622Z"
    }
   },
   "outputs": [],
   "source": [
    "for c in cats:\n",
    "    print(train[c].unique())\n",
    "    print(test[c].unique())\n",
    "    print(data[c].unique())"
   ]
  },
  {
   "cell_type": "code",
   "execution_count": null,
   "metadata": {
    "ExecuteTime": {
     "end_time": "2019-02-20T04:29:44.837678Z",
     "start_time": "2019-02-20T04:29:40.652Z"
    }
   },
   "outputs": [],
   "source": [
    "train.head()"
   ]
  },
  {
   "cell_type": "code",
   "execution_count": null,
   "metadata": {
    "ExecuteTime": {
     "end_time": "2019-02-20T04:29:44.838574Z",
     "start_time": "2019-02-20T04:29:40.674Z"
    }
   },
   "outputs": [],
   "source": [
    "test.head()"
   ]
  },
  {
   "cell_type": "code",
   "execution_count": null,
   "metadata": {
    "ExecuteTime": {
     "end_time": "2019-02-20T04:29:44.839437Z",
     "start_time": "2019-02-20T04:29:40.676Z"
    },
    "_uuid": "6cbe0d1da1d7d7759d9f6c4d02b8e6d3d1342d54",
    "collapsed": true
   },
   "outputs": [],
   "source": [
    "fold_target = train['target']\n",
    "fold_target = (fold_target<-20).astype(int)"
   ]
  },
  {
   "cell_type": "code",
   "execution_count": null,
   "metadata": {
    "ExecuteTime": {
     "end_time": "2019-02-20T04:29:44.840405Z",
     "start_time": "2019-02-20T04:29:40.677Z"
    },
    "collapsed": true
   },
   "outputs": [],
   "source": [
    "features = ['feature_1', 'feature_2', 'authorized_flag_mean', 'hist_transactions_count', 'hist_is_month_start_mean', 'hist_category_1_mean', 'hist_merchant_category_id_nunique', 'hist_merchant_id_nunique', 'hist_month_nunique', 'hist_weekofyear_nunique', 'hist_day_nunique', 'hist_a2p_mean', 'hist_a2p_median', 'hist_a2p_min', 'hist_p2now_max', 'hist_purchase_amount_sum', 'hist_installments_mean', 'hist_installments_max', 'hist_installments_min', 'hist_p_vs_m_mean', 'hist_p_vs_m_std', 'hist_p_vs_i_median', 'hist_purchase_date_max', 'hist_purchase_date_min', 'hist_category_2_p_mean_std', 'hist_category_3_p_mean_mean', 'hist_category_3_p_mean_max', 'hist_state_id_p_mean_std', 'hist_subsector_id_p_mean_min', 'hist_merchant_id_p_mean_median', 'hist_merchant_id_p_mean_max', 'hist_merchant_id_p_mean_min', 'hist_hour_p_mean_min', 'hist_re_year', 'hist_re_quarter', 'hist_re_month', 'hist_a2r', 'hist_r2now', 'hist_a2now', 'hist_p2p', 'hist_count_vs_p2p', 'hist_sleep_vs_p2p', 'hist_p_vs_p2p', 'new_transactions_count', 'new_category_1_mean', 'new_subsector_id_nunique', 'new_merchant_category_id_nunique', 'new_merchant_id_nunique', 'new_month_nunique', 'new_a2p_mean', 'new_a2p_std', 'new_p2r_mean', 'new_p2r_max', 'new_p2r_min', 'new_p2r_std', 'new_p2now_mean', 'new_p2now_max', 'new_p2now_min', 'new_p2now_std', 'new_month_lag_std', 'new_purchase_amount_max', 'new_purchase_amount_min', 'new_installments_min', 'new_p_vs_m_max', 'new_p_vs_m_min', 'new_p_vs_i_mean', 'new_purchase_date_max', 'new_purchase_date_min', 'new_category_3_p_mean_mean', 'new_quarter_p_mean_mean', 'new_month_p_mean_max', 'new_dayofweek_p_mean_max', 'new_hour_p_mean_min', 'new_sleep_vs_count', 'new_count_vs_p2p', 'c_sleep_diff', 'c_p_diff', 'p2p_p_diff', 'c_p2p_diff_vs', 'c_sleep_diff_vs', 'p2p_count_diff_vs']"
   ]
  },
  {
   "cell_type": "code",
   "execution_count": null,
   "metadata": {
    "ExecuteTime": {
     "end_time": "2019-02-20T04:29:44.841471Z",
     "start_time": "2019-02-20T04:29:40.678Z"
    },
    "collapsed": true
   },
   "outputs": [],
   "source": [
    "cat_feats = ['feature_1', 'feature_2', 'hist_re_year', 'hist_re_quarter']"
   ]
  },
  {
   "cell_type": "code",
   "execution_count": null,
   "metadata": {
    "ExecuteTime": {
     "end_time": "2019-02-20T04:29:44.842394Z",
     "start_time": "2019-02-20T04:29:40.679Z"
    }
   },
   "outputs": [],
   "source": [
    "print(features)\n",
    "print(cat_feats)"
   ]
  },
  {
   "cell_type": "code",
   "execution_count": null,
   "metadata": {
    "ExecuteTime": {
     "end_time": "2019-02-20T04:29:44.843361Z",
     "start_time": "2019-02-20T04:29:40.680Z"
    }
   },
   "outputs": [],
   "source": [
    "int_feats=[]\n",
    "for i in features:\n",
    "    print(i,train[i].dtype)\n",
    "    if 'int' in str(train[i].dtype):\n",
    "        int_feats.append(i)"
   ]
  },
  {
   "cell_type": "code",
   "execution_count": null,
   "metadata": {
    "ExecuteTime": {
     "end_time": "2019-02-20T04:29:44.844411Z",
     "start_time": "2019-02-20T04:29:40.682Z"
    }
   },
   "outputs": [],
   "source": [
    "print(len(int_feats),int_feats)"
   ]
  },
  {
   "cell_type": "code",
   "execution_count": null,
   "metadata": {
    "ExecuteTime": {
     "end_time": "2019-02-20T04:29:44.845363Z",
     "start_time": "2019-02-20T04:29:40.683Z"
    }
   },
   "outputs": [],
   "source": [
    "def get_data_ctr_fea(tj_data,self_data,items=int_feats):\n",
    "\n",
    "    items = items\n",
    "    \n",
    "    tj_drop_columns=[i for i in  tj_data.columns  if \"_ctr\" in i]\n",
    "    if len(tj_drop_columns)>0:\n",
    "        tj_data=tj_data.drop(columns=tj_drop_columns)\n",
    "    \n",
    "    self_drop_columns=[i for i in  self_data  if \"_ctr\" in i]\n",
    "    if len(self_drop_columns)>0:\n",
    "        print(self_drop_columns)\n",
    "        self_data.drop(columns=self_drop_columns,inplace=True)\n",
    "        \n",
    "    \n",
    "    for item in items:\n",
    "        if type(item)==list:\n",
    "            pr_name=\"_\".join(item)\n",
    "            merge_columns=item+[pr_name+'_ctr']\n",
    "        else:\n",
    "            pr_name=item\n",
    "            merge_columns=[item,pr_name+'_ctr']\n",
    "          \n",
    "            \n",
    "        temp = tj_data.groupby(item, as_index = False)['outliers'].agg({pr_name+'_click':'sum',pr_name+'_count':'count'})\n",
    "     \n",
    "        temp[pr_name+'_ctr'] =1000* (temp[pr_name+'_click']+0.01)/(temp[pr_name+'_count']+0.01)\n",
    "        \n",
    "        self_data = pd.merge(self_data, temp[merge_columns], on=item, how='left')\n",
    "        \n",
    "    items = items\n",
    "        \n",
    "    for i in range(len(items)):\n",
    "        for j in range(i+1, len(items)):\n",
    "            item_g = [items[i], items[j]]\n",
    "            merge_columns=item_g+['_'.join(item_g)+'_ctr']\n",
    "            temp = tj_data.groupby(item_g, as_index=False)['outliers'].agg({'_'.join(item_g)+'_click': 'sum','_'.join(item_g)+'count':'count'})\n",
    "            temp['_'.join(item_g)+'_ctr'] =1000* (temp['_'.join(item_g)+'_click']+0.01)/(temp['_'.join(item_g)+'count']+0.01)\n",
    "            self_data = pd.merge(self_data, temp[merge_columns], on=item_g, how='left')\n",
    "            \n",
    "    return self_data\n",
    "            \n",
    "test=get_data_ctr_fea(train,test)  \n",
    "print(\"test ctr caluate finished\")\n",
    "\n",
    "from sklearn.model_selection import  StratifiedKFold\n",
    "skf = StratifiedKFold(n_splits=5, random_state=4590, shuffle=True)\n",
    "\n",
    "train['index'] = [i for i in range(len(train))]\n",
    "\n",
    "for k, (train_in, test_in) in enumerate(skf.split(train, train.outliers)):\n",
    "    train_df=train.iloc[train_in]\n",
    "    val_df=train.iloc[test_in]\n",
    "    val_df=get_data_ctr_fea(train_df,val_df)\n",
    "    if k==0:\n",
    "        new_train_df=val_df\n",
    "    else:\n",
    "        new_train_df=pd.concat([new_train_df,val_df])\n",
    "\n",
    "train=new_train_df\n",
    "train.sort_values(by='index',inplace=True)\n",
    "train.drop(columns = ['index'],inplace=True)\n",
    "\n",
    "print(\"train ctr caluate finished\")\n"
   ]
  },
  {
   "cell_type": "code",
   "execution_count": null,
   "metadata": {
    "ExecuteTime": {
     "end_time": "2019-02-20T04:29:44.846326Z",
     "start_time": "2019-02-20T04:29:40.684Z"
    }
   },
   "outputs": [],
   "source": [
    "len(features)"
   ]
  }
 ],
 "metadata": {
  "kernelspec": {
   "display_name": "Python 3",
   "language": "python",
   "name": "python3"
  },
  "language_info": {
   "codemirror_mode": {
    "name": "ipython",
    "version": 3
   },
   "file_extension": ".py",
   "mimetype": "text/x-python",
   "name": "python",
   "nbconvert_exporter": "python",
   "pygments_lexer": "ipython3",
   "version": "3.6.3"
  }
 },
 "nbformat": 4,
 "nbformat_minor": 1
}

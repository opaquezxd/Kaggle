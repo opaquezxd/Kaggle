{
 "cells": [
  {
   "cell_type": "code",
   "execution_count": 1,
   "metadata": {
    "ExecuteTime": {
     "end_time": "2019-02-24T14:05:11.233858Z",
     "start_time": "2019-02-24T14:05:10.344032Z"
    },
    "collapsed": true
   },
   "outputs": [],
   "source": [
    "import numpy as np\n",
    "import pandas as pd\n",
    "import datetime\n",
    "from datetime import date, datetime\n",
    "import gc\n",
    "import matplotlib.pyplot as plt\n",
    "import seaborn as sns\n",
    "import lightgbm as lgb\n",
    "from sklearn.model_selection import StratifiedKFold\n",
    "from sklearn.metrics import mean_squared_error\n",
    "import warnings\n",
    "\n",
    "# import workalendar\n",
    "# from workalendar.america import Brazil\n",
    "\n",
    "warnings.filterwarnings('ignore')\n",
    "np.random.seed(4590)\n"
   ]
  },
  {
   "cell_type": "code",
   "execution_count": 2,
   "metadata": {
    "ExecuteTime": {
     "end_time": "2019-02-24T14:07:02.682534Z",
     "start_time": "2019-02-24T14:05:35.550376Z"
    },
    "collapsed": true
   },
   "outputs": [],
   "source": [
    "df_train = pd.read_csv('../input/train.csv')\n",
    "df_test = pd.read_csv('../input/test.csv')\n",
    "df_hist_trans = pd.read_csv('../input/historical_transactions.csv',parse_dates=['purchase_date'])\n",
    "df_new_merchant_trans = pd.read_csv('../input/new_merchant_transactions.csv',parse_dates=['purchase_date'])"
   ]
  },
  {
   "cell_type": "code",
   "execution_count": 4,
   "metadata": {
    "ExecuteTime": {
     "end_time": "2019-02-24T14:10:02.263718Z",
     "start_time": "2019-02-24T14:10:02.260762Z"
    },
    "collapsed": true
   },
   "outputs": [],
   "source": [
    "card_id_2_merchant_dict = {}"
   ]
  },
  {
   "cell_type": "code",
   "execution_count": 5,
   "metadata": {
    "ExecuteTime": {
     "end_time": "2019-02-24T14:10:03.105426Z",
     "start_time": "2019-02-24T14:10:02.711379Z"
    }
   },
   "outputs": [],
   "source": [
    "for i in df_train['card_id'].values:\n",
    "    card_id_2_merchant_dict[i]=set()\n",
    "    \n",
    "for i in df_test['card_id'].values:\n",
    "    card_id_2_merchant_dict[i]=set()"
   ]
  },
  {
   "cell_type": "code",
   "execution_count": null,
   "metadata": {
    "ExecuteTime": {
     "start_time": "2019-02-24T14:16:43.804Z"
    },
    "collapsed": true
   },
   "outputs": [],
   "source": [
    "for i in  range(len(df_hist_trans)):\n",
    "    card_id = df_hist_trans['card_id'].values[i]\n",
    "    merchant_id = df_hist_trans['merchant_id'].values[i]\n",
    "    card_id_2_merchant_dict[card_id].add(merchant_id)\n",
    "    \n",
    "for i in  range(len(df_new_merchant_trans)):\n",
    "    card_id = df_new_merchant_trans['card_id'].values[i]\n",
    "    merchant_id = df_new_merchant_trans['merchant_id'].values[i]\n",
    "    card_id_2_merchant_dict[card_id].add(merchant_id)"
   ]
  },
  {
   "cell_type": "code",
   "execution_count": null,
   "metadata": {
    "collapsed": true
   },
   "outputs": [],
   "source": [
    "with open(\"carid_2_merchant_graph.list\",'w') as f:\n",
    "    for card_id in  card_id_2_merchant_dict.keys():\n",
    "        for merchant_id in card_id_2_merchant_dict[card_id]:\n",
    "            f.write(card+\" \"+merchant_id+\"\\n\")"
   ]
  }
 ],
 "metadata": {
  "kernelspec": {
   "display_name": "Python 3",
   "language": "python",
   "name": "python3"
  },
  "language_info": {
   "codemirror_mode": {
    "name": "ipython",
    "version": 3
   },
   "file_extension": ".py",
   "mimetype": "text/x-python",
   "name": "python",
   "nbconvert_exporter": "python",
   "pygments_lexer": "ipython3",
   "version": "3.6.3"
  }
 },
 "nbformat": 4,
 "nbformat_minor": 2
}

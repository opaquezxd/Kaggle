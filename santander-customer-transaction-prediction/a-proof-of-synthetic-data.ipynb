{
 "cells": [
  {
   "cell_type": "markdown",
   "metadata": {
    "_uuid": "6c22cd36989e2516ae04e5a9b7271fb2317bfa05"
   },
   "source": [
    "This kernel is inspired by [@Branden Murray](https://www.kaggle.com/brandenkmurray)'s thoughts about [Any explanation why shuffling augmentation works?](https://www.kaggle.com/c/santander-customer-transaction-prediction/discussion/84847). I quote his hypothesis:\n",
    "\n",
    ">Well, one explanation could be that it's how they generated the dataset in the first place. For each feature they had a distribution for target==0 and a distribution for target==1 and they randomly sampled from each and then put it together.\n",
    "\n",
    "I'm going to generate positive(target==1) and negative(target==0) samples for each feature, then combine the 200 simulated features together, I can get a synthetic data. With this simulated data, I can test Brander Murray's hypothesis.  \n",
    "\n",
    "If his hypothesis is true, then we can calculate the probability of positive sample(i.e. P(target=1|features)) using traditional Probability theory."
   ]
  },
  {
   "cell_type": "code",
   "execution_count": 1,
   "metadata": {
    "_cell_guid": "b1076dfc-b9ad-4769-8c92-a6c4dae69d19",
    "_uuid": "8f2839f25d086af736a60e9eeb907d3b93b6e0e5"
   },
   "outputs": [],
   "source": [
    "import numpy as np \n",
    "import pandas as pd\n",
    "import lightgbm as lgb\n",
    "from scipy.stats import norm\n",
    "import matplotlib.pyplot as plt\n",
    "%matplotlib inline\n",
    "import seaborn as sns\n",
    "from sklearn.metrics import roc_auc_score"
   ]
  },
  {
   "cell_type": "code",
   "execution_count": 2,
   "metadata": {
    "_cell_guid": "79c7e3d0-c299-4dcb-8224-4455121ee9b0",
    "_uuid": "d629ff2d2480ee46fbb7e2d37f6b5fab8052498a"
   },
   "outputs": [
    {
     "data": {
      "text/plain": [
       "((200000, 200), (200000,), (200000, 200))"
      ]
     },
     "execution_count": 2,
     "metadata": {},
     "output_type": "execute_result"
    }
   ],
   "source": [
    "train = pd.read_csv('../input/train.csv', index_col=0)\n",
    "test = pd.read_csv('../input/test.csv', index_col=0)\n",
    "\n",
    "target = train.target.values\n",
    "train.drop('target', axis=1, inplace=True)\n",
    "train.shape, target.shape, test.shape, "
   ]
  },
  {
   "cell_type": "markdown",
   "metadata": {
    "_uuid": "1ec24c8a5f02b6a6b52c4a0cfc5d0e4b87dca343"
   },
   "source": [
    "### Calculate the mean/sd of postive and negative samples for each feature"
   ]
  },
  {
   "cell_type": "code",
   "execution_count": 3,
   "metadata": {
    "_uuid": "4dd7a6c1e22cb73cc858e15df859af15aa887d4e"
   },
   "outputs": [
    {
     "data": {
      "text/html": [
       "<div>\n",
       "<style scoped>\n",
       "    .dataframe tbody tr th:only-of-type {\n",
       "        vertical-align: middle;\n",
       "    }\n",
       "\n",
       "    .dataframe tbody tr th {\n",
       "        vertical-align: top;\n",
       "    }\n",
       "\n",
       "    .dataframe thead th {\n",
       "        text-align: right;\n",
       "    }\n",
       "</style>\n",
       "<table border=\"1\" class=\"dataframe\">\n",
       "  <thead>\n",
       "    <tr style=\"text-align: right;\">\n",
       "      <th></th>\n",
       "      <th>pos_mean</th>\n",
       "      <th>pos_sd</th>\n",
       "      <th>neg_mean</th>\n",
       "      <th>neg_sd</th>\n",
       "    </tr>\n",
       "  </thead>\n",
       "  <tbody>\n",
       "    <tr>\n",
       "      <th>0</th>\n",
       "      <td>11.156418</td>\n",
       "      <td>3.270293</td>\n",
       "      <td>10.626681</td>\n",
       "      <td>3.008564</td>\n",
       "    </tr>\n",
       "    <tr>\n",
       "      <th>1</th>\n",
       "      <td>-1.017613</td>\n",
       "      <td>4.220638</td>\n",
       "      <td>-1.695770</td>\n",
       "      <td>4.024813</td>\n",
       "    </tr>\n",
       "    <tr>\n",
       "      <th>2</th>\n",
       "      <td>11.156633</td>\n",
       "      <td>2.841075</td>\n",
       "      <td>10.665876</td>\n",
       "      <td>2.612961</td>\n",
       "    </tr>\n",
       "    <tr>\n",
       "      <th>3</th>\n",
       "      <td>6.864113</td>\n",
       "      <td>2.070898</td>\n",
       "      <td>6.788979</td>\n",
       "      <td>2.040082</td>\n",
       "    </tr>\n",
       "    <tr>\n",
       "      <th>4</th>\n",
       "      <td>11.131337</td>\n",
       "      <td>1.649266</td>\n",
       "      <td>11.072412</td>\n",
       "      <td>1.620103</td>\n",
       "    </tr>\n",
       "  </tbody>\n",
       "</table>\n",
       "</div>"
      ],
      "text/plain": [
       "    pos_mean    pos_sd   neg_mean    neg_sd\n",
       "0  11.156418  3.270293  10.626681  3.008564\n",
       "1  -1.017613  4.220638  -1.695770  4.024813\n",
       "2  11.156633  2.841075  10.665876  2.612961\n",
       "3   6.864113  2.070898   6.788979  2.040082\n",
       "4  11.131337  1.649266  11.072412  1.620103"
      ]
     },
     "execution_count": 3,
     "metadata": {},
     "output_type": "execute_result"
    }
   ],
   "source": [
    "pos_idx = (target == 1)\n",
    "neg_idx = (target == 0)\n",
    "stats = []\n",
    "for col in train.columns:\n",
    "    stats.append([\n",
    "        train.loc[pos_idx, col].mean(),\n",
    "        train.loc[pos_idx, col].std(),\n",
    "        train.loc[neg_idx, col].mean(),\n",
    "        train.loc[neg_idx, col].std()\n",
    "    ])\n",
    "    \n",
    "stats_df = pd.DataFrame(stats, columns=['pos_mean', 'pos_sd', 'neg_mean', 'neg_sd'])\n",
    "stats_df.head()"
   ]
  },
  {
   "cell_type": "markdown",
   "metadata": {
    "_uuid": "df40b43dd1093f1a343ee0d24e46751fad17c1d7"
   },
   "source": [
    "### Synthetic data using normal distribution with train's mean/sd"
   ]
  },
  {
   "cell_type": "code",
   "execution_count": 4,
   "metadata": {
    "_uuid": "bfb5de8cc47dd4f3119434b26f27dc8410cb0fe5"
   },
   "outputs": [],
   "source": [
    "npos = pos_idx.sum()\n",
    "nneg = neg_idx.sum()\n",
    "\n",
    "sim_feats = []\n",
    "for pos_mean, pos_sd, neg_mean, neg_sd in stats:\n",
    "    pos_feat = np.random.normal(loc=pos_mean, scale=pos_sd, size=npos)\n",
    "    neg_feat = np.random.normal(loc=neg_mean, scale=neg_sd, size=nneg)\n",
    "    sim_feats.append(np.hstack([pos_feat, neg_feat]))\n",
    "    \n",
    "sim_feats = np.column_stack(sim_feats)\n",
    "sim_target = np.hstack([np.ones(npos), np.zeros(nneg)])"
   ]
  },
  {
   "cell_type": "code",
   "execution_count": 5,
   "metadata": {
    "_uuid": "80dac04f855798bb0ba225d195a157474c0c0b42"
   },
   "outputs": [
    {
     "data": {
      "text/plain": [
       "((200000, 200), (200000,))"
      ]
     },
     "execution_count": 5,
     "metadata": {},
     "output_type": "execute_result"
    }
   ],
   "source": [
    "sim_feats.shape, sim_target.shape"
   ]
  },
  {
   "cell_type": "markdown",
   "metadata": {
    "_uuid": "1120fd25a1a81462564a6c207076a79a9a3601ae"
   },
   "source": [
    "### Test the synthetic data"
   ]
  },
  {
   "cell_type": "code",
   "execution_count": 6,
   "metadata": {
    "_uuid": "796ad7fe2bd30f9a75eb799380b2cc6413918efd"
   },
   "outputs": [],
   "source": [
    "param = {\n",
    "    'bagging_freq': 5,\n",
    "    'bagging_fraction': 0.335,\n",
    "    'boost_from_average':'false',\n",
    "    'boost': 'gbdt',\n",
    "    'feature_fraction': 0.041,\n",
    "    'learning_rate': 0.0083,\n",
    "    'max_depth': -1,\n",
    "    'metric':'auc',\n",
    "    'min_data_in_leaf': 80,\n",
    "    'min_sum_hessian_in_leaf': 10.0,\n",
    "    'num_leaves': 13,\n",
    "    'tree_learner': 'serial',\n",
    "    'objective': 'binary', \n",
    "    'verbosity': -1\n",
    "}"
   ]
  },
  {
   "cell_type": "code",
   "execution_count": 7,
   "metadata": {
    "_uuid": "2cc5423b030e2552d99cce44f99583d3c532a936",
    "scrolled": true
   },
   "outputs": [
    {
     "name": "stdout",
     "output_type": "stream",
     "text": [
      "[600]\tcv_agg's auc: 0.859474 + 0.00283987\n",
      "[1200]\tcv_agg's auc: 0.868508 + 0.00352786\n",
      "[1800]\tcv_agg's auc: 0.872842 + 0.00311873\n",
      "[2400]\tcv_agg's auc: 0.876242 + 0.00308192\n",
      "[3000]\tcv_agg's auc: 0.878284 + 0.00301556\n",
      "[3600]\tcv_agg's auc: 0.880043 + 0.00297988\n",
      "[4200]\tcv_agg's auc: 0.881187 + 0.00291464\n",
      "[4800]\tcv_agg's auc: 0.882087 + 0.00297438\n",
      "[5400]\tcv_agg's auc: 0.882716 + 0.00299189\n",
      "[6000]\tcv_agg's auc: 0.883233 + 0.00290837\n",
      "[6600]\tcv_agg's auc: 0.88369 + 0.00287925\n",
      "[7200]\tcv_agg's auc: 0.883943 + 0.00283904\n",
      "[7800]\tcv_agg's auc: 0.884205 + 0.00284252\n",
      "[8400]\tcv_agg's auc: 0.884384 + 0.00281212\n",
      "[9000]\tcv_agg's auc: 0.884479 + 0.00284024\n",
      "[9600]\tcv_agg's auc: 0.884507 + 0.00288774\n",
      "[10200]\tcv_agg's auc: 0.884588 + 0.00286203\n",
      "[10800]\tcv_agg's auc: 0.88457 + 0.00281234\n",
      "0.8845980663774207 10564\n"
     ]
    }
   ],
   "source": [
    "trn_data = lgb.Dataset(sim_feats, sim_target)\n",
    "cv = lgb.cv(param, trn_data, 100000, shuffle=True, early_stopping_rounds=600, verbose_eval=600)\n",
    "print(cv['auc-mean'][-1], len(cv['auc-mean']))"
   ]
  },
  {
   "cell_type": "markdown",
   "metadata": {
    "_uuid": "7ed25a9db120d64cc7e8d9c6cf860c814d22ec15"
   },
   "source": [
    "We can achieve 0.885 just using train data's mean and sd, this is not bad! Maybe the data is generated using this way!"
   ]
  },
  {
   "cell_type": "markdown",
   "metadata": {
    "_uuid": "718d970f266bf02a3ad6974098b70a9dcfc6b05d"
   },
   "source": [
    "### Calculate probability use hypothetical test\n",
    "\n",
    "If each feature is generated by sample positive samples and negtive samples, then we can use hypothetical test to distinguish them. The positive samples and negative samples of each feature are slightly different. Let's take `var_0` and `var_1` as an example. "
   ]
  },
  {
   "cell_type": "code",
   "execution_count": 8,
   "metadata": {
    "_uuid": "1a4a308c7f5921e03c70e4b193c8d0af68a2acaa"
   },
   "outputs": [
    {
     "name": "stderr",
     "output_type": "stream",
     "text": [
      "/opt/conda/lib/python3.6/site-packages/scipy/stats/stats.py:1713: FutureWarning: Using a non-tuple sequence for multidimensional indexing is deprecated; use `arr[tuple(seq)]` instead of `arr[seq]`. In the future this will be interpreted as an array index, `arr[np.array(seq)]`, which will result either in an error or a different result.\n",
      "  return np.add.reduce(sorted[indexer] * weights, axis=axis) / sumval\n"
     ]
    },
    {
     "data": {
      "text/plain": [
       "Text(0.5,0,'var_1')"
      ]
     },
     "execution_count": 8,
     "metadata": {},
     "output_type": "execute_result"
    },
    {
     "data": {
      "image/png": "[encoded data removed]",
      "text/plain": [
       "<Figure size 1440x720 with 4 Axes>"
      ]
     },
     "metadata": {},
     "output_type": "display_data"
    }
   ],
   "source": [
    "plt.figure(figsize=(20, 10))\n",
    "# var_0\n",
    "plt.subplot(2, 2, 1)\n",
    "sns.distplot(train.loc[pos_idx, 'var_0'], hist=False, label='pos', color='blue')\n",
    "sns.distplot(train.loc[neg_idx, 'var_0'], hist=False, label='neg', color='orange')\n",
    "plt.vlines(x=[stats_df.loc[0, 'pos_mean'], stats_df.loc[0, 'neg_mean']], ymin=0, ymax=0.15, colors=['blue', 'orange'])\n",
    "plt.xlabel('var_0')\n",
    "plt.title('Real data')\n",
    "plt.legend()\n",
    "plt.subplot(2, 2, 2)\n",
    "sns.distplot(sim_feats[pos_idx, 0], hist=False, label='pos', color='blue')\n",
    "sns.distplot(sim_feats[neg_idx, 0], hist=False, label='neg', color='orange')\n",
    "plt.vlines(x=[stats_df.loc[0, 'pos_mean'], stats_df.loc[0, 'neg_mean']], ymin=0, ymax=0.15, colors=['blue', 'orange'])\n",
    "plt.title('Simulated data')\n",
    "plt.legend()\n",
    "plt.xlabel('var_0')\n",
    "\n",
    "# var_1\n",
    "plt.subplot(2, 2, 3)\n",
    "sns.distplot(train.loc[pos_idx, 'var_1'], hist=False, label='pos', color='blue')\n",
    "sns.distplot(train.loc[neg_idx, 'var_1'], hist=False, label='neg', color='orange')\n",
    "plt.vlines(x=[stats_df.loc[1, 'pos_mean'], stats_df.loc[1, 'neg_mean']], ymin=0, ymax=0.15, colors=['blue', 'orange'])\n",
    "plt.xlabel('var_1')\n",
    "plt.legend()\n",
    "plt.subplot(2, 2, 4)\n",
    "sns.distplot(sim_feats[pos_idx, 1], hist=False, label='pos', color='blue')\n",
    "sns.distplot(sim_feats[neg_idx, 1], hist=False, label='neg', color='orange')\n",
    "plt.vlines(x=[stats_df.loc[1, 'pos_mean'], stats_df.loc[1, 'neg_mean']], ymin=0, ymax=0.15, colors=['blue', 'orange'])\n",
    "plt.legend()\n",
    "plt.xlabel('var_1')"
   ]
  },
  {
   "cell_type": "markdown",
   "metadata": {
    "_uuid": "33d5fbad2ea6d050b923004c8827f08efce5f62e"
   },
   "source": [
    "Let's use Z-test:\n",
    "- Null hypothesis: a sample is negative(target == 0)\n",
    "- Alternative hypothesis: a sample is not negative(target == 1)\n",
    "\n",
    "If we get a small pvalue(< 0.05), we reject the null hypothesis, i.e. the smaller the pvalue, the more likely a sample is positive."
   ]
  },
  {
   "cell_type": "code",
   "execution_count": 9,
   "metadata": {
    "_uuid": "f46b73e8a0e315152d56e95f53839e14a3e96c76"
   },
   "outputs": [
    {
     "data": {
      "text/plain": [
       "(200000, 200)"
      ]
     },
     "execution_count": 9,
     "metadata": {},
     "output_type": "execute_result"
    }
   ],
   "source": [
    "zval1 = (train.values - stats_df.neg_mean.values) / stats_df.neg_sd.values\n",
    "zval1.shape"
   ]
  },
  {
   "cell_type": "code",
   "execution_count": 10,
   "metadata": {
    "_uuid": "ceeead2412109212f653e77e19d7c693e3262067"
   },
   "outputs": [],
   "source": [
    "pval1 = (1 - norm.cdf(np.abs(zval1))) * 2"
   ]
  },
  {
   "cell_type": "code",
   "execution_count": 11,
   "metadata": {
    "_uuid": "31f8412a261c1fe0c8bd8b5c6a19ecf07c48bcb1"
   },
   "outputs": [
    {
     "data": {
      "text/plain": [
       "array([[0.57177027, 0.20594774, 0.63449577, ..., 0.69837486, 0.29121058,\n",
       "        0.82376126],\n",
       "       [0.77145121, 0.54245537, 0.22172421, ..., 0.88720733, 0.41422096,\n",
       "        0.60700232],\n",
       "       [0.50250964, 0.79419708, 0.58824061, ..., 0.47761577, 0.68657618,\n",
       "        0.71488458],\n",
       "       ...,\n",
       "       [0.84283093, 0.40437388, 0.95325361, ..., 0.82443714, 0.48263242,\n",
       "        0.4655326 ],\n",
       "       [0.76181736, 0.08582372, 0.25978831, ..., 0.2241812 , 0.8944557 ,\n",
       "        0.31498317],\n",
       "       [0.93390222, 0.31852433, 0.57831086, ..., 0.42411589, 0.2025446 ,\n",
       "        0.73342109]])"
      ]
     },
     "execution_count": 11,
     "metadata": {},
     "output_type": "execute_result"
    }
   ],
   "source": [
    "pval1"
   ]
  },
  {
   "cell_type": "markdown",
   "metadata": {
    "_uuid": "713d8f2e9aeb8883da84e0556988264c12df0ced"
   },
   "source": [
    "Since we have 200 feats, we get 200 pvalue for each sample, we can multiply them together."
   ]
  },
  {
   "cell_type": "code",
   "execution_count": 12,
   "metadata": {
    "_uuid": "f5a8234c42ce1f42c3d912506fdbbc37c2141fde"
   },
   "outputs": [],
   "source": [
    "prob1 = pval1.prod(axis=1)"
   ]
  },
  {
   "cell_type": "markdown",
   "metadata": {
    "_uuid": "0ab209f269dd312ca902d5ca9d4917410df8de24"
   },
   "source": [
    "The smaller the prob1, the more likely a sample is positive. let's see the performance."
   ]
  },
  {
   "cell_type": "code",
   "execution_count": 13,
   "metadata": {
    "_uuid": "4752c92556892466bbdf4c68566d42786086e2aa"
   },
   "outputs": [
    {
     "data": {
      "text/plain": [
       "0.7195175007871486"
      ]
     },
     "execution_count": 13,
     "metadata": {},
     "output_type": "execute_result"
    }
   ],
   "source": [
    "roc_auc_score(target, 1/prob1)"
   ]
  },
  {
   "cell_type": "markdown",
   "metadata": {
    "_uuid": "40a6bc46f0a36b33384f8739480922a6057f177b"
   },
   "source": [
    "If we test whether a sample is positive, we can get another hypothetical test:\n",
    "- Null hypothesis: a sample is positive(target == 1)\n",
    "- Alternative hypothesis: a sample is not positive(target == 0)\n",
    "\n",
    "If we get a small pvalue(< 0.05), we reject the null hypothesis, i.e. the bigger the pvalue, the more likely a sample is positive."
   ]
  },
  {
   "cell_type": "code",
   "execution_count": 14,
   "metadata": {
    "_uuid": "c4b82cd5fd6a52b224762f3345f4b93c4105f39d"
   },
   "outputs": [],
   "source": [
    "zval2 = (train.values - stats_df.pos_mean.values) / stats_df.pos_sd.values\n",
    "pval2 = (1 - norm.cdf(np.abs(zval2))) * 2"
   ]
  },
  {
   "cell_type": "code",
   "execution_count": 15,
   "metadata": {
    "_uuid": "7ece3e71eb91724d0b597c59334dd9c1f6e31181"
   },
   "outputs": [],
   "source": [
    "prob2 = pval2.prod(axis=1)"
   ]
  },
  {
   "cell_type": "markdown",
   "metadata": {
    "_uuid": "32aa392757e4b082ee6ab623451ce87222f44114"
   },
   "source": [
    "Combine the two prob together:"
   ]
  },
  {
   "cell_type": "code",
   "execution_count": 16,
   "metadata": {
    "_uuid": "1546e0c868c8d898ef9e5382f9f70a7a327b698c"
   },
   "outputs": [
    {
     "data": {
      "text/plain": [
       "0.8740511207814198"
      ]
     },
     "execution_count": 16,
     "metadata": {},
     "output_type": "execute_result"
    }
   ],
   "source": [
    "roc_auc_score(target, prob2 / prob1)"
   ]
  },
  {
   "cell_type": "markdown",
   "metadata": {
    "_uuid": "2543026bc91c69dbd01a42b3ed8f92ed242d1449"
   },
   "source": [
    "**We can get 0.874 just using Probability theory, It's quite good I think.**"
   ]
  },
  {
   "cell_type": "markdown",
   "metadata": {
    "_uuid": "af270d931748f6278bd4f17dd4872bfd0aa5d1e5"
   },
   "source": [
    " ### Use this mothed to predict test.csv"
   ]
  },
  {
   "cell_type": "code",
   "execution_count": 17,
   "metadata": {
    "_uuid": "bc363987a92088476a3992793a8a6637884fe9f2"
   },
   "outputs": [],
   "source": [
    "te_zval1 = (test.values - stats_df.neg_mean.values) / stats_df.neg_sd.values\n",
    "te_pval1 = (1 - norm.cdf(np.abs(te_zval1))) * 2\n",
    "te_prob1 = te_pval1.prod(axis=1)"
   ]
  },
  {
   "cell_type": "code",
   "execution_count": 18,
   "metadata": {
    "_uuid": "7c2eddc85582f97006c06eecef999fca2ec2dc4b"
   },
   "outputs": [],
   "source": [
    "te_zval2 = (test.values - stats_df.pos_mean.values) / stats_df.pos_sd.values\n",
    "te_pval2 = (1 - norm.cdf(np.abs(te_zval2))) * 2\n",
    "te_prob2 = te_pval2.prod(axis=1)"
   ]
  },
  {
   "cell_type": "code",
   "execution_count": 19,
   "metadata": {
    "_uuid": "6ae2cb11c7158f2fef1a8b3d12e6618bd771b83e"
   },
   "outputs": [],
   "source": [
    "pred = te_prob2 / te_prob1"
   ]
  },
  {
   "cell_type": "code",
   "execution_count": 20,
   "metadata": {
    "_uuid": "5c597d26f9f80d24ea97ed7a6e9645aed45e7a1b"
   },
   "outputs": [],
   "source": [
    "pd.DataFrame({\n",
    "    'ID_code': test.index,\n",
    "    'target': pred\n",
    "}).to_csv('sub.csv', index=False)"
   ]
  },
  {
   "cell_type": "markdown",
   "metadata": {
    "_uuid": "f5be8528c3089850d5ff46a356c53f8968f9c649"
   },
   "source": [
    "### Conclusion\n",
    "\n",
    "Branden Murray's hypothesis **For each feature they had a distribution for target==0 and a distribution for target==1 and they randomly sampled from each and then put it together** is a wonderful explanation of shuffling also works and weak interaction between features.\n",
    "\n",
    "We can even use tranditional Probability theory to calculate the P(target==1) value to achive 0.874 local cv. But this model is still too naive, the feature is not normal distribution(I try normality test, none of the 200 features passed), and the positive samples and negative samples is not variance homogeneity(2/3 of the features failed variance homogeneity test).\n",
    "\n",
    "Hope this kernal can help, thanks!"
   ]
  }
 ],
 "metadata": {
  "kernelspec": {
   "display_name": "Python 3",
   "language": "python",
   "name": "python3"
  },
  "language_info": {
   "codemirror_mode": {
    "name": "ipython",
    "version": 3
   },
   "file_extension": ".py",
   "mimetype": "text/x-python",
   "name": "python",
   "nbconvert_exporter": "python",
   "pygments_lexer": "ipython3",
   "version": "3.6.6"
  }
 },
 "nbformat": 4,
 "nbformat_minor": 1
}

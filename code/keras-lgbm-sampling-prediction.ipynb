{
 "cells": [
  {
   "cell_type": "markdown",
   "metadata": {},
   "source": [
    "# Deep Learning / LGBM for unbalanced datasets\n",
    "\n",
    "The kernel is not yet fully constructed :D  any comments are appreciated (added motivation <3)\n",
    "\n",
    "Feel free to fork and test the presented models\n",
    "\n",
    "1. [Sampling](#sample)\n",
    "2. [Feature Engineering](#fe)\n",
    "3. [LGBM Model](#lgbm)\n",
    "4. [Keras Model](#keras)\n",
    "5. [Combination Vis](#vis)\n",
    "6. [Submission](#sub)"
   ]
  },
  {
   "cell_type": "code",
   "execution_count": 1,
   "metadata": {
    "_cell_guid": "b1076dfc-b9ad-4769-8c92-a6c4dae69d19",
    "_uuid": "8f2839f25d086af736a60e9eeb907d3b93b6e0e5"
   },
   "outputs": [
    {
     "name": "stderr",
     "output_type": "stream",
     "text": [
      "Using TensorFlow backend.\n"
     ]
    }
   ],
   "source": [
    "import numpy as np \n",
    "import pandas as pd\n",
    "import matplotlib.pyplot as plt\n",
    "import seaborn as sns\n",
    "import tensorflow as tf\n",
    "from keras.models import Sequential\n",
    "from keras.layers import Dense, Activation,Dropout, BatchNormalization\n",
    "from sklearn.model_selection import KFold\n",
    "import lightgbm as lgb\n",
    "from sklearn.metrics import roc_auc_score\n",
    "from sklearn.model_selection import  train_test_split\n",
    "from keras import backend as K\n",
    "from keras import optimizers\n",
    "import keras as k\n",
    "import warnings\n",
    "warnings.filterwarnings('ignore')"
   ]
  },
  {
   "cell_type": "code",
   "execution_count": 2,
   "metadata": {
    "_cell_guid": "79c7e3d0-c299-4dcb-8224-4455121ee9b0",
    "_uuid": "d629ff2d2480ee46fbb7e2d37f6b5fab8052498a"
   },
   "outputs": [
    {
     "name": "stdout",
     "output_type": "stream",
     "text": [
      "CPU times: user 0 ns, sys: 0 ns, total: 0 ns\n",
      "Wall time: 5.96 µs\n",
      "Training df shape (200000, 202)\n",
      "Test df shape (200000, 201)\n"
     ]
    }
   ],
   "source": [
    "%time\n",
    "df_train = pd.read_csv('../input/train.csv')\n",
    "df_test = pd.read_csv('../input/test.csv')\n",
    "print('Training df shape',df_train.shape)\n",
    "print('Test df shape',df_test.shape)"
   ]
  },
  {
   "cell_type": "code",
   "execution_count": 3,
   "metadata": {},
   "outputs": [
    {
     "name": "stdout",
     "output_type": "stream",
     "text": [
      "Percentage of transactions greater than 0 :   10.049 %\n"
     ]
    }
   ],
   "source": [
    "#Setting up Data\n",
    "per = len(df_train[df_train['target'] > 0]) / df_train.shape[0]\n",
    "print('Percentage of transactions greater than 0 :   {} %'.format(per*100 ))"
   ]
  },
  {
   "cell_type": "markdown",
   "metadata": {},
   "source": [
    "## Sampling from the full dataset (more work on this later)\n",
    "<a id='sample'></a>"
   ]
  },
  {
   "cell_type": "code",
   "execution_count": 4,
   "metadata": {},
   "outputs": [
    {
     "name": "stdout",
     "output_type": "stream",
     "text": [
      "Ones (20098, 202)\n",
      "Zeros (19609, 202)\n",
      "(39707, 202)\n"
     ]
    }
   ],
   "source": [
    "df_ones = df_train[df_train['target'] > 0]\n",
    "print('Ones',df_ones.shape)\n",
    "df_zeros = df_train[df_train['target'] == 0].sample(frac=0.109)\n",
    "print('Zeros',df_zeros.shape)\n",
    "#we concat both to the sampling dataframe\n",
    "df_sampling = pd.concat([df_ones, df_zeros])\n",
    "print(df_sampling.shape)"
   ]
  },
  {
   "cell_type": "markdown",
   "metadata": {},
   "source": [
    "## Simple Feature Engineering\n",
    "<a id='fe'></a>"
   ]
  },
  {
   "cell_type": "code",
   "execution_count": 5,
   "metadata": {},
   "outputs": [
    {
     "name": "stdout",
     "output_type": "stream",
     "text": [
      "CPU times: user 0 ns, sys: 0 ns, total: 0 ns\n",
      "Wall time: 5.96 µs\n",
      "Creating percentiles features for df: 1/3\n",
      "Creating percentiles features for df: 2/3\n",
      "Creating percentiles features for df: 3/3\n"
     ]
    }
   ],
   "source": [
    "#Inspired by Gabriel Preda 's Kernel'\n",
    "%time\n",
    "idx = features = df_train.columns.values[2:202]\n",
    "for i,df in enumerate([df_train, df_test,df_sampling]):\n",
    "    df['sum'] = df[idx].sum(axis=1)  \n",
    "    df['min'] = df[idx].min(axis=1)\n",
    "    df['max'] = df[idx].max(axis=1)\n",
    "    df['mean'] = df[idx].mean(axis=1)\n",
    "    df['std'] = df[idx].std(axis=1)\n",
    "    df['skew'] = df[idx].skew(axis=1)\n",
    "    df['kurt'] = df[idx].kurtosis(axis=1)\n",
    "    df['med'] = df[idx].median(axis=1)\n",
    "    print('Creating percentiles features for df: {}/{}'.format(i+1,3))\n",
    "    df['perc_5'] =  df[idx].apply(lambda x: np.percentile(x, 10), axis=1)\n",
    "    df['perc_10'] =  df[idx].apply(lambda x: np.percentile(x, 10), axis=1)\n",
    "    df['perc_25'] =  df[idx].apply(lambda x: np.percentile(x, 25), axis=1)\n",
    "    df['perc_50'] =  df[idx].apply(lambda x: np.percentile(x, 50), axis=1)\n",
    "    df['perc_75'] =  df[idx].apply(lambda x: np.percentile(x, 75), axis=1)\n",
    "    df['perc_95'] =  df[idx].apply(lambda x: np.percentile(x, 99), axis=1)\n",
    "    df['perc_99'] =  df[idx].apply(lambda x: np.percentile(x, 99), axis=1)    "
   ]
  },
  {
   "cell_type": "code",
   "execution_count": 6,
   "metadata": {},
   "outputs": [],
   "source": [
    "X = df_train.iloc[:,2:]\n",
    "y = df_train['target']\n",
    "\n",
    "#test train split\n",
    "X_train, X_test, y_train, y_test = train_test_split(X, y, test_size=0.3, random_state=6666)\n",
    "\n",
    "#Sampling train test split\n",
    "X_smple = df_sampling.iloc[:,2:]\n",
    "y_smple = df_sampling['target']\n",
    "X_train_smple, X_test_smple, y_train_smple, y_test_smple = train_test_split(X_smple, y_smple, test_size=0.3, random_state=66)"
   ]
  },
  {
   "cell_type": "markdown",
   "metadata": {},
   "source": [
    "# 1. LGBM Model\n",
    "<a id='lgbm'></a>"
   ]
  },
  {
   "cell_type": "code",
   "execution_count": 7,
   "metadata": {},
   "outputs": [
    {
     "name": "stdout",
     "output_type": "stream",
     "text": [
      "Fold num:1\n",
      "Training until validation scores don't improve for 1000 rounds.\n",
      "[1000]\ttrain's auc: 0.835567\tvalid's auc: 0.822856\n",
      "[2000]\ttrain's auc: 0.868414\tvalid's auc: 0.852877\n",
      "[3000]\ttrain's auc: 0.884654\tvalid's auc: 0.867295\n",
      "[4000]\ttrain's auc: 0.894449\tvalid's auc: 0.875671\n",
      "[5000]\ttrain's auc: 0.900904\tvalid's auc: 0.880994\n",
      "[6000]\ttrain's auc: 0.905702\tvalid's auc: 0.885005\n",
      "[7000]\ttrain's auc: 0.909326\tvalid's auc: 0.888211\n",
      "[8000]\ttrain's auc: 0.912178\tvalid's auc: 0.890515\n",
      "[9000]\ttrain's auc: 0.914438\tvalid's auc: 0.892397\n",
      "[10000]\ttrain's auc: 0.916357\tvalid's auc: 0.893827\n",
      "[11000]\ttrain's auc: 0.91795\tvalid's auc: 0.895002\n",
      "[12000]\ttrain's auc: 0.919378\tvalid's auc: 0.896024\n",
      "[13000]\ttrain's auc: 0.920664\tvalid's auc: 0.896682\n",
      "[14000]\ttrain's auc: 0.921784\tvalid's auc: 0.897149\n",
      "[15000]\ttrain's auc: 0.922828\tvalid's auc: 0.897615\n",
      "[16000]\ttrain's auc: 0.923783\tvalid's auc: 0.89795\n",
      "[17000]\ttrain's auc: 0.924715\tvalid's auc: 0.898187\n",
      "[18000]\ttrain's auc: 0.925614\tvalid's auc: 0.898325\n",
      "[19000]\ttrain's auc: 0.926478\tvalid's auc: 0.898529\n",
      "[20000]\ttrain's auc: 0.927341\tvalid's auc: 0.898692\n",
      "[21000]\ttrain's auc: 0.928171\tvalid's auc: 0.898818\n",
      "Early stopping, best iteration is:\n",
      "[20875]\ttrain's auc: 0.928066\tvalid's auc: 0.898832\n",
      "Fold num:2\n",
      "Training until validation scores don't improve for 1000 rounds.\n",
      "[1000]\ttrain's auc: 0.836187\tvalid's auc: 0.821031\n",
      "[2000]\ttrain's auc: 0.868742\tvalid's auc: 0.85222\n",
      "[3000]\ttrain's auc: 0.884863\tvalid's auc: 0.867068\n",
      "[4000]\ttrain's auc: 0.894554\tvalid's auc: 0.875789\n",
      "[5000]\ttrain's auc: 0.901137\tvalid's auc: 0.881257\n",
      "[6000]\ttrain's auc: 0.906148\tvalid's auc: 0.885447\n",
      "[7000]\ttrain's auc: 0.90996\tvalid's auc: 0.888414\n",
      "[8000]\ttrain's auc: 0.912777\tvalid's auc: 0.890391\n",
      "[9000]\ttrain's auc: 0.915126\tvalid's auc: 0.892119\n",
      "[10000]\ttrain's auc: 0.917054\tvalid's auc: 0.893295\n",
      "[11000]\ttrain's auc: 0.918701\tvalid's auc: 0.894184\n",
      "[12000]\ttrain's auc: 0.920152\tvalid's auc: 0.894886\n",
      "[13000]\ttrain's auc: 0.921403\tvalid's auc: 0.895437\n",
      "[14000]\ttrain's auc: 0.922536\tvalid's auc: 0.895793\n",
      "[15000]\ttrain's auc: 0.923562\tvalid's auc: 0.896053\n",
      "[16000]\ttrain's auc: 0.924553\tvalid's auc: 0.896207\n",
      "[17000]\ttrain's auc: 0.925509\tvalid's auc: 0.896408\n",
      "[18000]\ttrain's auc: 0.926402\tvalid's auc: 0.896565\n",
      "[19000]\ttrain's auc: 0.927301\tvalid's auc: 0.896561\n",
      "[20000]\ttrain's auc: 0.928169\tvalid's auc: 0.896585\n",
      "Early stopping, best iteration is:\n",
      "[19757]\ttrain's auc: 0.927963\tvalid's auc: 0.896639\n",
      "Fold num:3\n",
      "Training until validation scores don't improve for 1000 rounds.\n",
      "[1000]\ttrain's auc: 0.834322\tvalid's auc: 0.824013\n",
      "[2000]\ttrain's auc: 0.867133\tvalid's auc: 0.855655\n",
      "[3000]\ttrain's auc: 0.883453\tvalid's auc: 0.87082\n",
      "[4000]\ttrain's auc: 0.893258\tvalid's auc: 0.879597\n",
      "[5000]\ttrain's auc: 0.900021\tvalid's auc: 0.885667\n",
      "[6000]\ttrain's auc: 0.904991\tvalid's auc: 0.889769\n",
      "[7000]\ttrain's auc: 0.908739\tvalid's auc: 0.892712\n",
      "[8000]\ttrain's auc: 0.911656\tvalid's auc: 0.894968\n",
      "[9000]\ttrain's auc: 0.914049\tvalid's auc: 0.896587\n",
      "[10000]\ttrain's auc: 0.916024\tvalid's auc: 0.897782\n",
      "[11000]\ttrain's auc: 0.917661\tvalid's auc: 0.898616\n",
      "[12000]\ttrain's auc: 0.919086\tvalid's auc: 0.899212\n",
      "[13000]\ttrain's auc: 0.920369\tvalid's auc: 0.899721\n",
      "[14000]\ttrain's auc: 0.921551\tvalid's auc: 0.900148\n",
      "[15000]\ttrain's auc: 0.922582\tvalid's auc: 0.900337\n",
      "[16000]\ttrain's auc: 0.923575\tvalid's auc: 0.900503\n",
      "[17000]\ttrain's auc: 0.924519\tvalid's auc: 0.900598\n",
      "[18000]\ttrain's auc: 0.925436\tvalid's auc: 0.900639\n",
      "[19000]\ttrain's auc: 0.92631\tvalid's auc: 0.900734\n",
      "Early stopping, best iteration is:\n",
      "[18761]\ttrain's auc: 0.926095\tvalid's auc: 0.900741\n",
      "Fold num:4\n",
      "Training until validation scores don't improve for 1000 rounds.\n",
      "[1000]\ttrain's auc: 0.834679\tvalid's auc: 0.824254\n",
      "[2000]\ttrain's auc: 0.866663\tvalid's auc: 0.855289\n",
      "[3000]\ttrain's auc: 0.883451\tvalid's auc: 0.871153\n",
      "[4000]\ttrain's auc: 0.893313\tvalid's auc: 0.879964\n",
      "[5000]\ttrain's auc: 0.900013\tvalid's auc: 0.885655\n",
      "[6000]\ttrain's auc: 0.904942\tvalid's auc: 0.889459\n",
      "[7000]\ttrain's auc: 0.908746\tvalid's auc: 0.892257\n",
      "[8000]\ttrain's auc: 0.911674\tvalid's auc: 0.894391\n",
      "[9000]\ttrain's auc: 0.914108\tvalid's auc: 0.896116\n",
      "[10000]\ttrain's auc: 0.916069\tvalid's auc: 0.897319\n",
      "[11000]\ttrain's auc: 0.917718\tvalid's auc: 0.89819\n",
      "[12000]\ttrain's auc: 0.919163\tvalid's auc: 0.898919\n",
      "[13000]\ttrain's auc: 0.920424\tvalid's auc: 0.899395\n",
      "[14000]\ttrain's auc: 0.921604\tvalid's auc: 0.899793\n",
      "[15000]\ttrain's auc: 0.92266\tvalid's auc: 0.900115\n",
      "[16000]\ttrain's auc: 0.923674\tvalid's auc: 0.900354\n",
      "[17000]\ttrain's auc: 0.924637\tvalid's auc: 0.900503\n",
      "[18000]\ttrain's auc: 0.925553\tvalid's auc: 0.900595\n",
      "[19000]\ttrain's auc: 0.926445\tvalid's auc: 0.900603\n",
      "Early stopping, best iteration is:\n",
      "[18786]\ttrain's auc: 0.926256\tvalid's auc: 0.90064\n",
      "Fold num:5\n",
      "Training until validation scores don't improve for 1000 rounds.\n",
      "[1000]\ttrain's auc: 0.83474\tvalid's auc: 0.834019\n",
      "[2000]\ttrain's auc: 0.866901\tvalid's auc: 0.861667\n",
      "[3000]\ttrain's auc: 0.883444\tvalid's auc: 0.875909\n",
      "[4000]\ttrain's auc: 0.89339\tvalid's auc: 0.883969\n",
      "[5000]\ttrain's auc: 0.899865\tvalid's auc: 0.889335\n",
      "[6000]\ttrain's auc: 0.904913\tvalid's auc: 0.89318\n",
      "[7000]\ttrain's auc: 0.908617\tvalid's auc: 0.895826\n",
      "[8000]\ttrain's auc: 0.911499\tvalid's auc: 0.89774\n",
      "[9000]\ttrain's auc: 0.913915\tvalid's auc: 0.899219\n",
      "[10000]\ttrain's auc: 0.915932\tvalid's auc: 0.900245\n",
      "[11000]\ttrain's auc: 0.917595\tvalid's auc: 0.900998\n",
      "[12000]\ttrain's auc: 0.918971\tvalid's auc: 0.901574\n",
      "[13000]\ttrain's auc: 0.920213\tvalid's auc: 0.902017\n",
      "[14000]\ttrain's auc: 0.921296\tvalid's auc: 0.902333\n",
      "[15000]\ttrain's auc: 0.922372\tvalid's auc: 0.902693\n",
      "[16000]\ttrain's auc: 0.923358\tvalid's auc: 0.90289\n",
      "[17000]\ttrain's auc: 0.924267\tvalid's auc: 0.903059\n",
      "[18000]\ttrain's auc: 0.925162\tvalid's auc: 0.903129\n",
      "[19000]\ttrain's auc: 0.92605\tvalid's auc: 0.903157\n",
      "[20000]\ttrain's auc: 0.926894\tvalid's auc: 0.903118\n",
      "Early stopping, best iteration is:\n",
      "[19146]\ttrain's auc: 0.926169\tvalid's auc: 0.903178\n",
      "\n",
      "Full Training Data score 0.9231966773555429\n",
      "Val CV score : 0.8999139898370315\n",
      "Test CV score : 0.9263173240740742\n"
     ]
    }
   ],
   "source": [
    "#Model LGBM \n",
    "def create_model_lgbm(X_train,y_train,X_val=None,y_val=None):\n",
    "    dtrain = lgb.Dataset(X_train,label=y_train)\n",
    "    dval = lgb.Dataset(X_val,label=y_val)\n",
    "    param = {\n",
    "    'bagging_freq': 3,\n",
    "    'bagging_fraction': 0.5,\n",
    "    'boost_from_average':'false',\n",
    "    'boost': 'gbdt',\n",
    "    'feature_fraction': 0.1,\n",
    "    'learning_rate': 0.01,\n",
    "    'max_depth': 2,  \n",
    "    'metric':'auc',\n",
    "    'min_data_in_leaf': 100,\n",
    "    'num_leaves': 35,\n",
    "    'num_threads': 8,\n",
    "    'tree_learner': 'serial',\n",
    "    'objective': 'binary', \n",
    "    'verbosity': 1\n",
    "    }\n",
    "    if not X_val is None:\n",
    "        valid_sets = (dtrain,dval)\n",
    "        valid_names = ['train','valid']\n",
    "    else:\n",
    "        valid_sets = (dtrain)\n",
    "        valid_names = ['train']\n",
    "    model = lgb.train(param,dtrain,num_boost_round=50000,valid_sets=valid_sets,valid_names=['train','valid'],\n",
    "                      verbose_eval=1000,\n",
    "                     early_stopping_rounds=1000)\n",
    "    return model\n",
    "\n",
    "lgbm_X = X\n",
    "lgbm_y = y\n",
    "lgbm_test_x = X_test\n",
    "lgbm_test_y = y_test\n",
    "val_pred = np.zeros(len(lgbm_X))\n",
    "full_pred = np.zeros(len(X))\n",
    "test_pred_lgbm = np.zeros(len(lgbm_test_y))\n",
    "target_pred = np.zeros(len(df_test))\n",
    "kf = KFold(n_splits=5,random_state=67)\n",
    "for _fold, (trn_idx, val_idx) in enumerate(kf.split(lgbm_X.values, lgbm_y.values)):   \n",
    "        Xtrn, ytrn = lgbm_X.iloc[trn_idx], lgbm_y.iloc[trn_idx]\n",
    "        Xval, y_val = lgbm_X.iloc[val_idx], lgbm_y.iloc[val_idx]\n",
    "        print(\"Fold num:{}\".format(_fold + 1))\n",
    "        clf = create_model_lgbm(Xtrn,ytrn,Xval,y_val)\n",
    "        val_pred[val_idx] = clf.predict(lgbm_X.iloc[val_idx])\n",
    "        test_pred_lgbm  += clf.predict(lgbm_test_x) / kf.n_splits\n",
    "        full_pred += clf.predict(X) / kf.n_splits\n",
    "        target_pred += clf.predict(df_test.iloc[:,1:]) / kf.n_splits\n",
    "\n",
    "print('\\nFull Training Data score {}'.format(roc_auc_score(y, full_pred)))        \n",
    "print('Val CV score : {}'.format(roc_auc_score(lgbm_y, val_pred)))    \n",
    "print('Test CV score : {}'.format(roc_auc_score(lgbm_test_y, test_pred_lgbm)))"
   ]
  },
  {
   "cell_type": "code",
   "execution_count": 8,
   "metadata": {},
   "outputs": [
    {
     "data": {
      "image/png": "[encoded data removed]",
      "text/plain": [
       "<Figure size 1440x720 with 1 Axes>"
      ]
     },
     "metadata": {},
     "output_type": "display_data"
    },
    {
     "data": {
      "text/plain": [
       "<Figure size 432x288 with 0 Axes>"
      ]
     },
     "metadata": {},
     "output_type": "display_data"
    }
   ],
   "source": [
    "num_features = 60\n",
    "indxs = np.argsort(clf.feature_importance())[:num_features]\n",
    "feature_imp = pd.DataFrame(sorted(zip(clf.feature_importance()[indxs],X.columns[indxs])), columns=['Value','Feature'])\n",
    "\n",
    "plt.figure(figsize=(20, 10))\n",
    "sns.barplot(x=\"Value\", y=\"Feature\", data=feature_imp.sort_values(by=\"Value\", ascending=False))\n",
    "plt.title('Top {} LightGBM Features'.format(num_features))\n",
    "plt.tight_layout()\n",
    "plt.show()\n",
    "plt.savefig('lgbm_importances.png')"
   ]
  },
  {
   "cell_type": "markdown",
   "metadata": {},
   "source": [
    "As we can see , many of the engineered features are present within the top 60 important features"
   ]
  },
  {
   "cell_type": "markdown",
   "metadata": {},
   "source": [
    "# 2.Keras NN Model\n",
    "<a id='keras'></a>"
   ]
  },
  {
   "cell_type": "code",
   "execution_count": 9,
   "metadata": {},
   "outputs": [
    {
     "name": "stdout",
     "output_type": "stream",
     "text": [
      "WARNING:tensorflow:From /opt/conda/lib/python3.6/site-packages/tensorflow/python/framework/op_def_library.py:263: colocate_with (from tensorflow.python.framework.ops) is deprecated and will be removed in a future version.\n",
      "Instructions for updating:\n",
      "Colocations handled automatically by placer.\n",
      "WARNING:tensorflow:From /opt/conda/lib/python3.6/site-packages/keras/backend/tensorflow_backend.py:3445: calling dropout (from tensorflow.python.ops.nn_ops) with keep_prob is deprecated and will be removed in a future version.\n",
      "Instructions for updating:\n",
      "Please use `rate` instead of `keep_prob`. Rate should be set to `rate = 1 - keep_prob`.\n",
      "WARNING:tensorflow:From <ipython-input-9-bbc1e7f0c22e>:4: py_func (from tensorflow.python.ops.script_ops) is deprecated and will be removed in a future version.\n",
      "Instructions for updating:\n",
      "tf.py_func is deprecated in TF V2. Instead, use\n",
      "    tf.py_function, which takes a python function which manipulates tf eager\n",
      "    tensors instead of numpy arrays. It's easy to convert a tf eager tensor to\n",
      "    an ndarray (just call tensor.numpy()) but having access to eager tensors\n",
      "    means `tf.py_function`s can use accelerators such as GPUs as well as\n",
      "    being differentiable using a gradient tape.\n",
      "    \n",
      "WARNING:tensorflow:From /opt/conda/lib/python3.6/site-packages/tensorflow/python/ops/math_ops.py:3066: to_int32 (from tensorflow.python.ops.math_ops) is deprecated and will be removed in a future version.\n",
      "Instructions for updating:\n",
      "Use tf.cast instead.\n",
      "Train on 140000 samples, validate on 60000 samples\n",
      "Epoch 1/100\n",
      "140000/140000 [==============================] - 10s 74us/step - loss: 0.3354 - auc: 0.6047 - val_loss: 0.2829 - val_auc: 0.7721\n",
      "Epoch 2/100\n",
      "140000/140000 [==============================] - 9s 64us/step - loss: 0.2743 - auc: 0.7870 - val_loss: 0.2550 - val_auc: 0.8408\n",
      "Epoch 3/100\n",
      "140000/140000 [==============================] - 9s 67us/step - loss: 0.2573 - auc: 0.8224 - val_loss: 0.2862 - val_auc: 0.8519\n",
      "Epoch 4/100\n",
      "140000/140000 [==============================] - 9s 64us/step - loss: 0.2499 - auc: 0.8358 - val_loss: 0.2632 - val_auc: 0.8529\n",
      "Epoch 5/100\n",
      "140000/140000 [==============================] - 9s 64us/step - loss: 0.2464 - auc: 0.8421 - val_loss: 0.2461 - val_auc: 0.8551\n",
      "Epoch 6/100\n",
      "140000/140000 [==============================] - 9s 64us/step - loss: 0.2429 - auc: 0.8479 - val_loss: 0.2439 - val_auc: 0.8579\n",
      "Epoch 7/100\n",
      "140000/140000 [==============================] - 9s 65us/step - loss: 0.2406 - auc: 0.8525 - val_loss: 0.2687 - val_auc: 0.8575\n",
      "Epoch 8/100\n",
      "140000/140000 [==============================] - 10s 69us/step - loss: 0.2388 - auc: 0.8551 - val_loss: 0.2820 - val_auc: 0.8588\n",
      "Epoch 9/100\n",
      "140000/140000 [==============================] - 10s 68us/step - loss: 0.2367 - auc: 0.8577 - val_loss: 0.2353 - val_auc: 0.8598\n",
      "Epoch 10/100\n",
      "140000/140000 [==============================] - 9s 63us/step - loss: 0.2352 - auc: 0.8605 - val_loss: 0.2374 - val_auc: 0.8630\n",
      "Epoch 11/100\n",
      "140000/140000 [==============================] - 9s 63us/step - loss: 0.2334 - auc: 0.8633 - val_loss: 0.2366 - val_auc: 0.8624\n",
      "Epoch 12/100\n",
      "140000/140000 [==============================] - 9s 63us/step - loss: 0.2321 - auc: 0.8655 - val_loss: 0.2565 - val_auc: 0.8606\n",
      "Epoch 13/100\n",
      "140000/140000 [==============================] - 9s 64us/step - loss: 0.2303 - auc: 0.8688 - val_loss: 0.2638 - val_auc: 0.8616\n",
      "Epoch 14/100\n",
      "140000/140000 [==============================] - 9s 64us/step - loss: 0.2298 - auc: 0.8694 - val_loss: 0.2345 - val_auc: 0.8622\n",
      "Epoch 15/100\n",
      "140000/140000 [==============================] - 9s 64us/step - loss: 0.2283 - auc: 0.8713 - val_loss: 0.2666 - val_auc: 0.8637\n",
      "Epoch 16/100\n",
      "140000/140000 [==============================] - 9s 64us/step - loss: 0.2273 - auc: 0.8732 - val_loss: 0.2883 - val_auc: 0.8609\n",
      "Epoch 17/100\n",
      "140000/140000 [==============================] - 9s 63us/step - loss: 0.2268 - auc: 0.8740 - val_loss: 0.4713 - val_auc: 0.8627\n",
      "Epoch 18/100\n",
      "140000/140000 [==============================] - 9s 65us/step - loss: 0.2249 - auc: 0.8766 - val_loss: 0.2427 - val_auc: 0.8570\n",
      "Epoch 19/100\n",
      "140000/140000 [==============================] - 9s 64us/step - loss: 0.2239 - auc: 0.8780 - val_loss: 0.2334 - val_auc: 0.8604\n",
      "Epoch 20/100\n",
      "140000/140000 [==============================] - 9s 65us/step - loss: 0.2230 - auc: 0.8795 - val_loss: 0.2336 - val_auc: 0.8600\n",
      "Epoch 21/100\n",
      "140000/140000 [==============================] - 9s 65us/step - loss: 0.2218 - auc: 0.8812 - val_loss: 0.2362 - val_auc: 0.8632\n",
      "Epoch 22/100\n",
      "140000/140000 [==============================] - 9s 63us/step - loss: 0.2208 - auc: 0.8831 - val_loss: 0.2312 - val_auc: 0.8622\n",
      "Epoch 23/100\n",
      "140000/140000 [==============================] - 9s 64us/step - loss: 0.2189 - auc: 0.8848 - val_loss: 0.7830 - val_auc: 0.8590\n",
      "Epoch 24/100\n",
      "140000/140000 [==============================] - 9s 63us/step - loss: 0.2187 - auc: 0.8862 - val_loss: 0.2525 - val_auc: 0.8588\n",
      "Epoch 25/100\n",
      "140000/140000 [==============================] - 9s 64us/step - loss: 0.2176 - auc: 0.8871 - val_loss: 0.2353 - val_auc: 0.8583\n",
      "Epoch 26/100\n",
      "140000/140000 [==============================] - 9s 65us/step - loss: 0.2162 - auc: 0.8892 - val_loss: 0.2362 - val_auc: 0.8604\n",
      "Epoch 27/100\n",
      "140000/140000 [==============================] - 9s 64us/step - loss: 0.2169 - auc: 0.8888 - val_loss: 0.2339 - val_auc: 0.8592\n",
      "Epoch 28/100\n",
      "140000/140000 [==============================] - 9s 65us/step - loss: 0.2151 - auc: 0.8912 - val_loss: 0.2421 - val_auc: 0.8577\n",
      "\n",
      "Non-Sampled Validation Max score : 0.8636971942305677\n"
     ]
    }
   ],
   "source": [
    "from keras.callbacks import EarlyStopping\n",
    "\n",
    "def auc(y_true, y_pred):\n",
    "    return tf.py_func(roc_auc_score, (y_true, y_pred), tf.double)\n",
    "\n",
    "#Model NN definition\n",
    "def create_model_nn(in_dim,layer_size=120):\n",
    "    model = Sequential()\n",
    "    model.add(Dense(layer_size,input_dim=in_dim))\n",
    "    model.add(BatchNormalization())\n",
    "    model.add(Activation('relu'))\n",
    "    model.add(Dropout(0.5))\n",
    "    model.add(Dense(layer_size))\n",
    "    model.add(BatchNormalization())\n",
    "    model.add(Activation('relu'))\n",
    "    model.add(Dropout(0.5))\n",
    "    model.add(Dense(layer_size))\n",
    "    model.add(BatchNormalization())\n",
    "    model.add(Activation('relu'))\n",
    "    model.add(Dropout(0.5))\n",
    "    model.add(Dense(layer_size))\n",
    "    model.add(BatchNormalization())\n",
    "    model.add(Activation('relu'))\n",
    "    model.add(Dense(1, activation='sigmoid'))\n",
    "    adam = optimizers.Adam(lr=0.001, beta_1=0.9, beta_2=0.999)\n",
    "    model.compile(optimizer=adam,loss='binary_crossentropy',metrics = [auc])    \n",
    "    return model\n",
    "\n",
    "model_nn = create_model_nn(X_train.shape[1])\n",
    "callback = EarlyStopping(\"val_loss\", patience=6, verbose=0, mode='auto')\n",
    "history = model_nn.fit(X_train, y_train, validation_data = (X_test,y_test),epochs=100,batch_size=256,verbose=1,callbacks=[callback])\n",
    "target_pred_nn = model_nn.predict(df_test.iloc[:,1:])[:,0]\n",
    "print('\\nNon-Sampled Validation Max score : {}'.format(np.max(history.history['val_auc'])))"
   ]
  },
  {
   "cell_type": "markdown",
   "metadata": {},
   "source": [
    "## Combination Vis\n",
    "<a id='vis'></a>"
   ]
  },
  {
   "cell_type": "code",
   "execution_count": 10,
   "metadata": {},
   "outputs": [
    {
     "data": {
      "image/png": "[encoded data removed]",
      "text/plain": [
       "<Figure size 432x288 with 1 Axes>"
      ]
     },
     "metadata": {},
     "output_type": "display_data"
    },
    {
     "data": {
      "image/png": "[encoded data removed]",
      "text/plain": [
       "<Figure size 432x288 with 1 Axes>"
      ]
     },
     "metadata": {},
     "output_type": "display_data"
    },
    {
     "data": {
      "text/plain": [
       "<Figure size 432x288 with 0 Axes>"
      ]
     },
     "metadata": {},
     "output_type": "display_data"
    }
   ],
   "source": [
    "#Ditribution Plots from both models \n",
    "nn_val_pred = model_nn.predict(X_test)[:,0]\n",
    "lgbm_val_pred  = test_pred_lgbm\n",
    "comb_approach_test = (0.2*target_pred_nn+target_pred)\n",
    "comb_approach_test[comb_approach_test>1]=1\n",
    "comb_approach_test[comb_approach_test<0]=0\n",
    "\n",
    "comb_approach_val = (0.2*nn_val_pred+lgbm_val_pred)\n",
    "comb_approach_val[comb_approach_val>1]=1\n",
    "comb_approach_val[comb_approach_val<0]=0\n",
    "\n",
    "#validations sets\n",
    "sns.distplot(nn_val_pred,label='NN Val Score:{:.3f}'.format(roc_auc_score(y_test,nn_val_pred)))\n",
    "sns.distplot(lgbm_val_pred,label='LGBM Val Score : {:.3f}'.format(roc_auc_score(lgbm_test_y, test_pred_lgbm)))\n",
    "sns.distplot(lgbm_val_pred,label='Comb Score : {:.3f}'.format(roc_auc_score(lgbm_test_y, comb_approach_val)))\n",
    "plt.title('Validation set target predictions')\n",
    "plt.legend()\n",
    "plt.show()\n",
    "plt.savefig('combination_val.png')\n",
    "#target final test set\n",
    "sns.distplot(target_pred_nn,label='NN Target')\n",
    "sns.distplot(target_pred,label='LGBM Target')\n",
    "sns.distplot(comb_approach_test,label='Combination Sum Target')\n",
    "plt.title('Test set target predictions')\n",
    "plt.legend()\n",
    "plt.show()\n",
    "plt.savefig('combination_target_test.png')"
   ]
  },
  {
   "cell_type": "markdown",
   "metadata": {},
   "source": [
    "We can in the above plots, for the validation distplot plot we have two peaks one corresponding to 1 and the other to zero. Which is expected due to the fact that we are using a sampling approach that does not suffer from the imbalanced classes problem. it is also telling us that NN model is predicting more zeros than ones.\n",
    "\n",
    "When we use the models to predict the target test set only one peak is observed which is also expected."
   ]
  },
  {
   "cell_type": "markdown",
   "metadata": {},
   "source": [
    "# Submission\n",
    "<a id='sub'></a>"
   ]
  },
  {
   "cell_type": "code",
   "execution_count": 11,
   "metadata": {},
   "outputs": [],
   "source": [
    "def sub_pred(preds,df_test,name='submission.csv'):\n",
    "    sub_df = pd.DataFrame({'ID_code':df_test['ID_code'],'target':preds})\n",
    "    sub_df.to_csv(name, index=False)\n",
    "    \n",
    "sub_pred(target_pred,df_test,name='lgbm_submission.csv')"
   ]
  },
  {
   "cell_type": "markdown",
   "metadata": {},
   "source": [
    "More work will be done regarding a combination approach :) Thank you."
   ]
  }
 ],
 "metadata": {
  "kernelspec": {
   "display_name": "Python 3",
   "language": "python",
   "name": "python3"
  },
  "language_info": {
   "codemirror_mode": {
    "name": "ipython",
    "version": 3
   },
   "file_extension": ".py",
   "mimetype": "text/x-python",
   "name": "python",
   "nbconvert_exporter": "python",
   "pygments_lexer": "ipython3",
   "version": "3.6.4"
  }
 },
 "nbformat": 4,
 "nbformat_minor": 1
}
